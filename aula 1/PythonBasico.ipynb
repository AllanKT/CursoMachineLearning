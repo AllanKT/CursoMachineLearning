{
  "nbformat": 4,
  "nbformat_minor": 0,
  "metadata": {
    "colab": {
      "name": "Untitled2.ipynb",
      "version": "0.3.2",
      "provenance": []
    },
    "kernelspec": {
      "name": "python3",
      "display_name": "Python 3"
    }
  },
  "cells": [
    {
      "metadata": {
        "id": "uAdKFqIljCWE",
        "colab_type": "text"
      },
      "cell_type": "markdown",
      "source": [
        "# Python"
      ]
    },
    {
      "metadata": {
        "id": "1LAeL69hjJpL",
        "colab_type": "text"
      },
      "cell_type": "markdown",
      "source": [
        "\n",
        "*   operadores\n",
        "*   string\n",
        "*   loops\n",
        "*   funções\n",
        "*   dict\n",
        "*   list\n",
        "*   class\n",
        "\n",
        "\n"
      ]
    },
    {
      "metadata": {
        "id": "Ky7iNPMNh9cY",
        "colab_type": "code",
        "colab": {
          "base_uri": "https://localhost:8080/",
          "height": 120
        },
        "outputId": "2a13e31b-f1ea-4532-bcdf-05c7fce74901"
      },
      "cell_type": "code",
      "source": [
        "print(5 + 4)\n",
        "print(5 - 4)\n",
        "print(5 * 4)\n",
        "print(5 / 4)\n",
        "print(5 // 4)\n",
        "print(5 ** 4)"
      ],
      "execution_count": 10,
      "outputs": [
        {
          "output_type": "stream",
          "text": [
            "9\n",
            "1\n",
            "20\n",
            "1.25\n",
            "1\n",
            "625\n"
          ],
          "name": "stdout"
        }
      ]
    },
    {
      "metadata": {
        "id": "i871s8sXkRWj",
        "colab_type": "code",
        "colab": {
          "base_uri": "https://localhost:8080/",
          "height": 34
        },
        "outputId": "200c71c2-b3e1-4d9c-fd1c-1408d2d651bf"
      },
      "cell_type": "code",
      "source": [
        "type(int(\"1\"))"
      ],
      "execution_count": 12,
      "outputs": [
        {
          "output_type": "execute_result",
          "data": {
            "text/plain": [
              "int"
            ]
          },
          "metadata": {
            "tags": []
          },
          "execution_count": 12
        }
      ]
    },
    {
      "metadata": {
        "id": "AbESNQdtnkIK",
        "colab_type": "code",
        "colab": {
          "base_uri": "https://localhost:8080/",
          "height": 34
        },
        "outputId": "4ee939da-64bf-46f3-86bd-93ae52d76074"
      },
      "cell_type": "code",
      "source": [
        "def func(x, y):\n",
        "  soma = x + y\n",
        "  return soma\n",
        "\n",
        "func(10, 20)"
      ],
      "execution_count": 31,
      "outputs": [
        {
          "output_type": "execute_result",
          "data": {
            "text/plain": [
              "30"
            ]
          },
          "metadata": {
            "tags": []
          },
          "execution_count": 31
        }
      ]
    },
    {
      "metadata": {
        "id": "6gcnvl8AkgET",
        "colab_type": "code",
        "colab": {}
      },
      "cell_type": "code",
      "source": [
        "class calculadora():\n",
        "  def __init__(self, x, y):\n",
        "    self.x = x\n",
        "    self.y = y\n",
        "    \n",
        "  @property\n",
        "  def somar(self):\n",
        "    return self.x + self.y"
      ],
      "execution_count": 0,
      "outputs": []
    },
    {
      "metadata": {
        "id": "6WuSbvGpl7li",
        "colab_type": "code",
        "colab": {}
      },
      "cell_type": "code",
      "source": [
        "valores = calculadora(11, 23)"
      ],
      "execution_count": 0,
      "outputs": []
    },
    {
      "metadata": {
        "id": "4qba2mYwmASy",
        "colab_type": "code",
        "colab": {
          "base_uri": "https://localhost:8080/",
          "height": 34
        },
        "outputId": "62938c8c-449f-4874-a39b-0ee27ce5a927"
      },
      "cell_type": "code",
      "source": [
        "valores.somar"
      ],
      "execution_count": 22,
      "outputs": [
        {
          "output_type": "execute_result",
          "data": {
            "text/plain": [
              "34"
            ]
          },
          "metadata": {
            "tags": []
          },
          "execution_count": 22
        }
      ]
    },
    {
      "metadata": {
        "id": "0PyWLlc8mMlp",
        "colab_type": "code",
        "colab": {
          "base_uri": "https://localhost:8080/",
          "height": 34
        },
        "outputId": "c0daa252-1e11-4652-8da7-19818a78b6e6"
      },
      "cell_type": "code",
      "source": [
        "\"a\".upper()"
      ],
      "execution_count": 23,
      "outputs": [
        {
          "output_type": "execute_result",
          "data": {
            "text/plain": [
              "'A'"
            ]
          },
          "metadata": {
            "tags": []
          },
          "execution_count": 23
        }
      ]
    },
    {
      "metadata": {
        "id": "bERmDmFTmhVT",
        "colab_type": "code",
        "colab": {
          "base_uri": "https://localhost:8080/",
          "height": 171
        },
        "outputId": "02685eac-4a1c-4825-bcb9-66892327647a"
      },
      "cell_type": "code",
      "source": [
        "x = 1\n",
        "while x<10:\n",
        "  x+=1\n",
        "  print(x)"
      ],
      "execution_count": 24,
      "outputs": [
        {
          "output_type": "stream",
          "text": [
            "2\n",
            "3\n",
            "4\n",
            "5\n",
            "6\n",
            "7\n",
            "8\n",
            "9\n",
            "10\n"
          ],
          "name": "stdout"
        }
      ]
    },
    {
      "metadata": {
        "id": "0GAfzrXbmt_C",
        "colab_type": "code",
        "colab": {
          "base_uri": "https://localhost:8080/",
          "height": 34
        },
        "outputId": "f6934000-ca45-470d-95ec-07a41b3cb76c"
      },
      "cell_type": "code",
      "source": [
        "x = [1, 2.92, \"3\", 4]\n",
        "x"
      ],
      "execution_count": 28,
      "outputs": [
        {
          "output_type": "execute_result",
          "data": {
            "text/plain": [
              "[1, 2.92, '3', 4]"
            ]
          },
          "metadata": {
            "tags": []
          },
          "execution_count": 28
        }
      ]
    },
    {
      "metadata": {
        "id": "7HDaTICUnXN5",
        "colab_type": "code",
        "colab": {
          "base_uri": "https://localhost:8080/",
          "height": 188
        },
        "outputId": "86432e48-d8db-4921-f1a3-c569c938d0f2"
      },
      "cell_type": "code",
      "source": [
        "for i in range(10):\n",
        "  print(i)"
      ],
      "execution_count": 30,
      "outputs": [
        {
          "output_type": "stream",
          "text": [
            "0\n",
            "1\n",
            "2\n",
            "3\n",
            "4\n",
            "5\n",
            "6\n",
            "7\n",
            "8\n",
            "9\n"
          ],
          "name": "stdout"
        }
      ]
    },
    {
      "metadata": {
        "id": "6w_f41snnFyC",
        "colab_type": "code",
        "colab": {
          "base_uri": "https://localhost:8080/",
          "height": 85
        },
        "outputId": "fe05daba-fc46-4871-a3fb-a7514cfa3f43"
      },
      "cell_type": "code",
      "source": [
        "for valor in x:\n",
        "  print(valor)"
      ],
      "execution_count": 29,
      "outputs": [
        {
          "output_type": "stream",
          "text": [
            "1\n",
            "2.92\n",
            "3\n",
            "4\n"
          ],
          "name": "stdout"
        }
      ]
    },
    {
      "metadata": {
        "id": "7Q1gIUy8nxiS",
        "colab_type": "code",
        "colab": {}
      },
      "cell_type": "code",
      "source": [
        "dicionario = {\n",
        "    \"primeiro\": \"1\",\n",
        "    \"segundo\": \"2\"\n",
        "}"
      ],
      "execution_count": 0,
      "outputs": []
    },
    {
      "metadata": {
        "id": "MsU6bXMOn_9B",
        "colab_type": "code",
        "colab": {
          "base_uri": "https://localhost:8080/",
          "height": 34
        },
        "outputId": "393fcad3-4835-4da1-83e0-a05bc5e283b5"
      },
      "cell_type": "code",
      "source": [
        "dicionario[\"primeiro\"]"
      ],
      "execution_count": 34,
      "outputs": [
        {
          "output_type": "execute_result",
          "data": {
            "text/plain": [
              "'1'"
            ]
          },
          "metadata": {
            "tags": []
          },
          "execution_count": 34
        }
      ]
    }
  ]
}