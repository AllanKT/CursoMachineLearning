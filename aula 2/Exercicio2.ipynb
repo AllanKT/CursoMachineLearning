{
  "nbformat": 4,
  "nbformat_minor": 0,
  "metadata": {
    "colab": {
      "name": "Exercicio2.ipynb",
      "version": "0.3.2",
      "provenance": [],
      "collapsed_sections": []
    },
    "kernelspec": {
      "name": "python3",
      "display_name": "Python 3"
    }
  },
  "cells": [
    {
      "cell_type": "code",
      "metadata": {
        "id": "yQqVhknB30W2",
        "colab_type": "code",
        "colab": {}
      },
      "source": [
        "import pandas as pd\n",
        "import numpy as np\n",
        "import matplotlib.pyplot as plt"
      ],
      "execution_count": 0,
      "outputs": []
    },
    {
      "cell_type": "code",
      "metadata": {
        "id": "mdoMTqHB5MUQ",
        "colab_type": "code",
        "colab": {}
      },
      "source": [
        "pesos = np.random.uniform(50, 90, 1000).round(2)\n",
        "alturas = np.random.uniform(1.5, 2, 1000).round(2)"
      ],
      "execution_count": 0,
      "outputs": []
    },
    {
      "cell_type": "code",
      "metadata": {
        "id": "3IIXc6_seISF",
        "colab_type": "code",
        "colab": {}
      },
      "source": [
        "data = {\"Pesos\": pesos, \"Alturas\": alturas}"
      ],
      "execution_count": 0,
      "outputs": []
    },
    {
      "cell_type": "code",
      "metadata": {
        "id": "UVGzBnBKe5hL",
        "colab_type": "code",
        "colab": {}
      },
      "source": [
        "df = pd.DataFrame(data, columns=[\"Pesos\", \"Alturas\"])\n",
        "df.to_csv(\"dados.csv\", sep=\";\")"
      ],
      "execution_count": 0,
      "outputs": []
    },
    {
      "cell_type": "code",
      "metadata": {
        "id": "JOMnQsTSe-vD",
        "colab_type": "code",
        "colab": {
          "base_uri": "https://localhost:8080/",
          "height": 206
        },
        "outputId": "a576a9e7-4165-4cba-9f27-f46743e7b631"
      },
      "source": [
        "df = pd.read_csv(\"dados.csv\", sep=\";\").drop(\"Unnamed: 0\", axis=1)\n",
        "df.head()"
      ],
      "execution_count": 14,
      "outputs": [
        {
          "output_type": "execute_result",
          "data": {
            "text/html": [
              "<div>\n",
              "<style scoped>\n",
              "    .dataframe tbody tr th:only-of-type {\n",
              "        vertical-align: middle;\n",
              "    }\n",
              "\n",
              "    .dataframe tbody tr th {\n",
              "        vertical-align: top;\n",
              "    }\n",
              "\n",
              "    .dataframe thead th {\n",
              "        text-align: right;\n",
              "    }\n",
              "</style>\n",
              "<table border=\"1\" class=\"dataframe\">\n",
              "  <thead>\n",
              "    <tr style=\"text-align: right;\">\n",
              "      <th></th>\n",
              "      <th>Pesos</th>\n",
              "      <th>Alturas</th>\n",
              "    </tr>\n",
              "  </thead>\n",
              "  <tbody>\n",
              "    <tr>\n",
              "      <th>0</th>\n",
              "      <td>88.60</td>\n",
              "      <td>1.76</td>\n",
              "    </tr>\n",
              "    <tr>\n",
              "      <th>1</th>\n",
              "      <td>51.48</td>\n",
              "      <td>1.75</td>\n",
              "    </tr>\n",
              "    <tr>\n",
              "      <th>2</th>\n",
              "      <td>52.31</td>\n",
              "      <td>1.94</td>\n",
              "    </tr>\n",
              "    <tr>\n",
              "      <th>3</th>\n",
              "      <td>86.13</td>\n",
              "      <td>1.91</td>\n",
              "    </tr>\n",
              "    <tr>\n",
              "      <th>4</th>\n",
              "      <td>81.32</td>\n",
              "      <td>1.84</td>\n",
              "    </tr>\n",
              "  </tbody>\n",
              "</table>\n",
              "</div>"
            ],
            "text/plain": [
              "   Pesos  Alturas\n",
              "0  88.60     1.76\n",
              "1  51.48     1.75\n",
              "2  52.31     1.94\n",
              "3  86.13     1.91\n",
              "4  81.32     1.84"
            ]
          },
          "metadata": {
            "tags": []
          },
          "execution_count": 14
        }
      ]
    },
    {
      "cell_type": "code",
      "metadata": {
        "id": "R7JzaNABfyYd",
        "colab_type": "code",
        "colab": {}
      },
      "source": [
        "def imc_calculate(peso, altura):\n",
        "  return peso/(altura**2)"
      ],
      "execution_count": 0,
      "outputs": []
    },
    {
      "cell_type": "code",
      "metadata": {
        "id": "cbuPZWLwggNd",
        "colab_type": "code",
        "colab": {
          "base_uri": "https://localhost:8080/",
          "height": 206
        },
        "outputId": "e5effa3d-9475-4275-d87e-2f8bdc2027f2"
      },
      "source": [
        "df[\"IMC\"] = (df[\"Pesos\"] / (df[\"Alturas\"]**2)).round(2)\n",
        "df.head()"
      ],
      "execution_count": 67,
      "outputs": [
        {
          "output_type": "execute_result",
          "data": {
            "text/html": [
              "<div>\n",
              "<style scoped>\n",
              "    .dataframe tbody tr th:only-of-type {\n",
              "        vertical-align: middle;\n",
              "    }\n",
              "\n",
              "    .dataframe tbody tr th {\n",
              "        vertical-align: top;\n",
              "    }\n",
              "\n",
              "    .dataframe thead th {\n",
              "        text-align: right;\n",
              "    }\n",
              "</style>\n",
              "<table border=\"1\" class=\"dataframe\">\n",
              "  <thead>\n",
              "    <tr style=\"text-align: right;\">\n",
              "      <th></th>\n",
              "      <th>Pesos</th>\n",
              "      <th>Alturas</th>\n",
              "      <th>IMC</th>\n",
              "      <th>Class</th>\n",
              "    </tr>\n",
              "  </thead>\n",
              "  <tbody>\n",
              "    <tr>\n",
              "      <th>0</th>\n",
              "      <td>88.60</td>\n",
              "      <td>1.76</td>\n",
              "      <td>28.60</td>\n",
              "      <td>2</td>\n",
              "    </tr>\n",
              "    <tr>\n",
              "      <th>1</th>\n",
              "      <td>51.48</td>\n",
              "      <td>1.75</td>\n",
              "      <td>16.81</td>\n",
              "      <td>1</td>\n",
              "    </tr>\n",
              "    <tr>\n",
              "      <th>2</th>\n",
              "      <td>52.31</td>\n",
              "      <td>1.94</td>\n",
              "      <td>13.90</td>\n",
              "      <td>1</td>\n",
              "    </tr>\n",
              "    <tr>\n",
              "      <th>3</th>\n",
              "      <td>86.13</td>\n",
              "      <td>1.91</td>\n",
              "      <td>23.61</td>\n",
              "      <td>2</td>\n",
              "    </tr>\n",
              "    <tr>\n",
              "      <th>4</th>\n",
              "      <td>81.32</td>\n",
              "      <td>1.84</td>\n",
              "      <td>24.02</td>\n",
              "      <td>2</td>\n",
              "    </tr>\n",
              "  </tbody>\n",
              "</table>\n",
              "</div>"
            ],
            "text/plain": [
              "   Pesos  Alturas    IMC  Class\n",
              "0  88.60     1.76  28.60      2\n",
              "1  51.48     1.75  16.81      1\n",
              "2  52.31     1.94  13.90      1\n",
              "3  86.13     1.91  23.61      2\n",
              "4  81.32     1.84  24.02      2"
            ]
          },
          "metadata": {
            "tags": []
          },
          "execution_count": 67
        }
      ]
    },
    {
      "cell_type": "code",
      "metadata": {
        "id": "rx-U0gWYgwlY",
        "colab_type": "code",
        "colab": {}
      },
      "source": [
        "df[\"Class\"] = 0"
      ],
      "execution_count": 0,
      "outputs": []
    },
    {
      "cell_type": "code",
      "metadata": {
        "id": "NitQSKfrhb2S",
        "colab_type": "code",
        "colab": {
          "base_uri": "https://localhost:8080/",
          "height": 206
        },
        "outputId": "34797b8f-b01a-4489-a4f5-2c1783f7b64c"
      },
      "source": [
        "df.head()"
      ],
      "execution_count": 69,
      "outputs": [
        {
          "output_type": "execute_result",
          "data": {
            "text/html": [
              "<div>\n",
              "<style scoped>\n",
              "    .dataframe tbody tr th:only-of-type {\n",
              "        vertical-align: middle;\n",
              "    }\n",
              "\n",
              "    .dataframe tbody tr th {\n",
              "        vertical-align: top;\n",
              "    }\n",
              "\n",
              "    .dataframe thead th {\n",
              "        text-align: right;\n",
              "    }\n",
              "</style>\n",
              "<table border=\"1\" class=\"dataframe\">\n",
              "  <thead>\n",
              "    <tr style=\"text-align: right;\">\n",
              "      <th></th>\n",
              "      <th>Pesos</th>\n",
              "      <th>Alturas</th>\n",
              "      <th>IMC</th>\n",
              "      <th>Class</th>\n",
              "    </tr>\n",
              "  </thead>\n",
              "  <tbody>\n",
              "    <tr>\n",
              "      <th>0</th>\n",
              "      <td>88.60</td>\n",
              "      <td>1.76</td>\n",
              "      <td>28.60</td>\n",
              "      <td>0</td>\n",
              "    </tr>\n",
              "    <tr>\n",
              "      <th>1</th>\n",
              "      <td>51.48</td>\n",
              "      <td>1.75</td>\n",
              "      <td>16.81</td>\n",
              "      <td>0</td>\n",
              "    </tr>\n",
              "    <tr>\n",
              "      <th>2</th>\n",
              "      <td>52.31</td>\n",
              "      <td>1.94</td>\n",
              "      <td>13.90</td>\n",
              "      <td>0</td>\n",
              "    </tr>\n",
              "    <tr>\n",
              "      <th>3</th>\n",
              "      <td>86.13</td>\n",
              "      <td>1.91</td>\n",
              "      <td>23.61</td>\n",
              "      <td>0</td>\n",
              "    </tr>\n",
              "    <tr>\n",
              "      <th>4</th>\n",
              "      <td>81.32</td>\n",
              "      <td>1.84</td>\n",
              "      <td>24.02</td>\n",
              "      <td>0</td>\n",
              "    </tr>\n",
              "  </tbody>\n",
              "</table>\n",
              "</div>"
            ],
            "text/plain": [
              "   Pesos  Alturas    IMC  Class\n",
              "0  88.60     1.76  28.60      0\n",
              "1  51.48     1.75  16.81      0\n",
              "2  52.31     1.94  13.90      0\n",
              "3  86.13     1.91  23.61      0\n",
              "4  81.32     1.84  24.02      0"
            ]
          },
          "metadata": {
            "tags": []
          },
          "execution_count": 69
        }
      ]
    },
    {
      "cell_type": "code",
      "metadata": {
        "id": "H7uxsZ5KjivF",
        "colab_type": "code",
        "colab": {}
      },
      "source": [
        "def classific(imc):\n",
        "  if imc < 18.50:\n",
        "    return 1\n",
        "  elif imc >= 18.50 and imc <= 24.90:\n",
        "    return 2\n",
        "  elif imc >= 25.00 and imc <= 29.90:\n",
        "    return 3\n",
        "  elif imc >= 30.00 and imc <= 34.90:\n",
        "    return 4\n",
        "  elif imc >= 35.00 and imc <= 39.90:\n",
        "    return 5\n",
        "  elif imc >= 40.00:\n",
        "    return 6"
      ],
      "execution_count": 0,
      "outputs": []
    },
    {
      "cell_type": "code",
      "metadata": {
        "id": "GhFOMf8hjEe7",
        "colab_type": "code",
        "colab": {}
      },
      "source": [
        "class_np = np.array(list())\n",
        "\n",
        "for i in df[\"IMC\"].values:\n",
        "  class_np = np.append(class_np, [classific(i)])\n",
        "\n",
        "df[\"Class\"] = class_np"
      ],
      "execution_count": 0,
      "outputs": []
    },
    {
      "cell_type": "code",
      "metadata": {
        "id": "2v5Ld4owiLGf",
        "colab_type": "code",
        "colab": {
          "base_uri": "https://localhost:8080/",
          "height": 206
        },
        "outputId": "586350e5-7286-48c0-dfca-a012cbef9d21"
      },
      "source": [
        "df.head()"
      ],
      "execution_count": 85,
      "outputs": [
        {
          "output_type": "execute_result",
          "data": {
            "text/html": [
              "<div>\n",
              "<style scoped>\n",
              "    .dataframe tbody tr th:only-of-type {\n",
              "        vertical-align: middle;\n",
              "    }\n",
              "\n",
              "    .dataframe tbody tr th {\n",
              "        vertical-align: top;\n",
              "    }\n",
              "\n",
              "    .dataframe thead th {\n",
              "        text-align: right;\n",
              "    }\n",
              "</style>\n",
              "<table border=\"1\" class=\"dataframe\">\n",
              "  <thead>\n",
              "    <tr style=\"text-align: right;\">\n",
              "      <th></th>\n",
              "      <th>Pesos</th>\n",
              "      <th>Alturas</th>\n",
              "      <th>IMC</th>\n",
              "      <th>Class</th>\n",
              "    </tr>\n",
              "  </thead>\n",
              "  <tbody>\n",
              "    <tr>\n",
              "      <th>0</th>\n",
              "      <td>88.60</td>\n",
              "      <td>1.76</td>\n",
              "      <td>28.60</td>\n",
              "      <td>3</td>\n",
              "    </tr>\n",
              "    <tr>\n",
              "      <th>1</th>\n",
              "      <td>51.48</td>\n",
              "      <td>1.75</td>\n",
              "      <td>16.81</td>\n",
              "      <td>1</td>\n",
              "    </tr>\n",
              "    <tr>\n",
              "      <th>2</th>\n",
              "      <td>52.31</td>\n",
              "      <td>1.94</td>\n",
              "      <td>13.90</td>\n",
              "      <td>1</td>\n",
              "    </tr>\n",
              "    <tr>\n",
              "      <th>3</th>\n",
              "      <td>86.13</td>\n",
              "      <td>1.91</td>\n",
              "      <td>23.61</td>\n",
              "      <td>2</td>\n",
              "    </tr>\n",
              "    <tr>\n",
              "      <th>4</th>\n",
              "      <td>81.32</td>\n",
              "      <td>1.84</td>\n",
              "      <td>24.02</td>\n",
              "      <td>2</td>\n",
              "    </tr>\n",
              "  </tbody>\n",
              "</table>\n",
              "</div>"
            ],
            "text/plain": [
              "   Pesos  Alturas    IMC Class\n",
              "0  88.60     1.76  28.60     3\n",
              "1  51.48     1.75  16.81     1\n",
              "2  52.31     1.94  13.90     1\n",
              "3  86.13     1.91  23.61     2\n",
              "4  81.32     1.84  24.02     2"
            ]
          },
          "metadata": {
            "tags": []
          },
          "execution_count": 85
        }
      ]
    },
    {
      "cell_type": "code",
      "metadata": {
        "id": "FuWCuhgZn5KA",
        "colab_type": "code",
        "colab": {
          "base_uri": "https://localhost:8080/",
          "height": 126
        },
        "outputId": "03029ebe-6063-4a05-c677-180d2239cc93"
      },
      "source": [
        "df[\"Class\"].value_counts()"
      ],
      "execution_count": 87,
      "outputs": [
        {
          "output_type": "execute_result",
          "data": {
            "text/plain": [
              "2.0    448\n",
              "3.0    221\n",
              "1.0    197\n",
              "4.0     96\n",
              "5.0     25\n",
              "Name: Class, dtype: int64"
            ]
          },
          "metadata": {
            "tags": []
          },
          "execution_count": 87
        }
      ]
    },
    {
      "cell_type": "code",
      "metadata": {
        "id": "Nfcphm6DnQdT",
        "colab_type": "code",
        "colab": {
          "base_uri": "https://localhost:8080/",
          "height": 293
        },
        "outputId": "c9260ff2-d750-423c-eaa8-cb95a077be33"
      },
      "source": [
        "df[\"Class\"].value_counts().plot(kind=\"bar\")"
      ],
      "execution_count": 84,
      "outputs": [
        {
          "output_type": "execute_result",
          "data": {
            "text/plain": [
              "<matplotlib.axes._subplots.AxesSubplot at 0x7fc412079da0>"
            ]
          },
          "metadata": {
            "tags": []
          },
          "execution_count": 84
        },
        {
          "output_type": "display_data",
          "data": {
            "image/png": "[encoded data removed]",
            "text/plain": [
              "<Figure size 432x288 with 1 Axes>"
            ]
          },
          "metadata": {
            "tags": []
          }
        }
      ]
    },
    {
      "cell_type": "code",
      "metadata": {
        "id": "SJnSFovzn2gm",
        "colab_type": "code",
        "colab": {}
      },
      "source": [
        ""
      ],
      "execution_count": 0,
      "outputs": []
    }
  ]
}