{
  "nbformat": 4,
  "nbformat_minor": 0,
  "metadata": {
    "colab": {
      "name": "Numpy.ipynb",
      "version": "0.3.2",
      "provenance": []
    },
    "kernelspec": {
      "name": "python3",
      "display_name": "Python 3"
    }
  },
  "cells": [
    {
      "cell_type": "code",
      "metadata": {
        "id": "i7rjUT9KhQM9",
        "colab_type": "code",
        "colab": {
          "base_uri": "https://localhost:8080/",
          "height": 35
        },
        "outputId": "e15897c9-de2f-45d3-9d06-bf4b07b7426f"
      },
      "source": [
        "!pip install numpy"
      ],
      "execution_count": 2,
      "outputs": [
        {
          "output_type": "stream",
          "text": [
            "Requirement already satisfied: numpy in /usr/local/lib/python3.6/dist-packages (1.16.3)\n"
          ],
          "name": "stdout"
        }
      ]
    },
    {
      "cell_type": "code",
      "metadata": {
        "id": "fDUszNdEiR9r",
        "colab_type": "code",
        "colab": {}
      },
      "source": [
        "import numpy as np\n",
        "import time"
      ],
      "execution_count": 0,
      "outputs": []
    },
    {
      "cell_type": "markdown",
      "metadata": {
        "id": "2FGd_FPVifJE",
        "colab_type": "text"
      },
      "source": [
        "Tipagem Multipla\n"
      ]
    },
    {
      "cell_type": "code",
      "metadata": {
        "id": "G6ssIBNUidDr",
        "colab_type": "code",
        "colab": {
          "base_uri": "https://localhost:8080/",
          "height": 35
        },
        "outputId": "09e3a2a2-cc81-405f-a6f3-650b139606ae"
      },
      "source": [
        "x = [1, 1.2, 'a']\n",
        "x"
      ],
      "execution_count": 4,
      "outputs": [
        {
          "output_type": "execute_result",
          "data": {
            "text/plain": [
              "[1, 1.2, 'a']"
            ]
          },
          "metadata": {
            "tags": []
          },
          "execution_count": 4
        }
      ]
    },
    {
      "cell_type": "code",
      "metadata": {
        "id": "ADei4sPwip6b",
        "colab_type": "code",
        "colab": {
          "base_uri": "https://localhost:8080/",
          "height": 35
        },
        "outputId": "6c0d9ccf-fc96-4772-81d8-fe986a1e94b4"
      },
      "source": [
        "np.array(x)"
      ],
      "execution_count": 5,
      "outputs": [
        {
          "output_type": "execute_result",
          "data": {
            "text/plain": [
              "array(['1', '1.2', 'a'], dtype='<U32')"
            ]
          },
          "metadata": {
            "tags": []
          },
          "execution_count": 5
        }
      ]
    },
    {
      "cell_type": "markdown",
      "metadata": {
        "id": "mZ7BaDahi9d7",
        "colab_type": "text"
      },
      "source": [
        "Tempo de execução"
      ]
    },
    {
      "cell_type": "code",
      "metadata": {
        "id": "_cPz9nLdi2f7",
        "colab_type": "code",
        "colab": {
          "base_uri": "https://localhost:8080/",
          "height": 34
        },
        "outputId": "835b04a2-f679-41cd-f717-5b608dab302e"
      },
      "source": [
        "start = time.time()\n",
        "time.sleep(0.5)\n",
        "print(time.time() - start)"
      ],
      "execution_count": 9,
      "outputs": [
        {
          "output_type": "stream",
          "text": [
            "0.5008134841918945\n"
          ],
          "name": "stdout"
        }
      ]
    },
    {
      "cell_type": "code",
      "metadata": {
        "id": "szgjANzejE9k",
        "colab_type": "code",
        "colab": {
          "base_uri": "https://localhost:8080/",
          "height": 34
        },
        "outputId": "664772bb-6f6d-4fa0-d6cd-91a7f208da3b"
      },
      "source": [
        "start = time.time()\n",
        "\n",
        "x = range(10000000)\n",
        "y = range(10000000)\n",
        "z = [x[i] + y[i]  for i in range(10000000)]\n",
        "\n",
        "print(time.time() - start)"
      ],
      "execution_count": 12,
      "outputs": [
        {
          "output_type": "stream",
          "text": [
            "3.2644639015197754\n"
          ],
          "name": "stdout"
        }
      ]
    },
    {
      "cell_type": "code",
      "metadata": {
        "id": "iTS2uoFXjwxc",
        "colab_type": "code",
        "colab": {
          "base_uri": "https://localhost:8080/",
          "height": 34
        },
        "outputId": "5bc48605-d37e-4739-eb50-6e2257dbf9f9"
      },
      "source": [
        "start = time.time()\n",
        "\n",
        "x = np.arange(10000000)\n",
        "y = np.arange(10000000)\n",
        "z = x + y\n",
        "\n",
        "print(time.time() - start)"
      ],
      "execution_count": 13,
      "outputs": [
        {
          "output_type": "stream",
          "text": [
            "0.3005399703979492\n"
          ],
          "name": "stdout"
        }
      ]
    },
    {
      "cell_type": "markdown",
      "metadata": {
        "id": "iJ8Rq8tTkRfI",
        "colab_type": "text"
      },
      "source": [
        "numpy"
      ]
    },
    {
      "cell_type": "code",
      "metadata": {
        "id": "nrVleTKbkCn5",
        "colab_type": "code",
        "colab": {
          "base_uri": "https://localhost:8080/",
          "height": 360
        },
        "outputId": "784d3e5e-2b6e-4042-876d-e3380ad01011"
      },
      "source": [
        "x = list(range(10, 50, 2))\n",
        "x"
      ],
      "execution_count": 16,
      "outputs": [
        {
          "output_type": "execute_result",
          "data": {
            "text/plain": [
              "[10,\n",
              " 12,\n",
              " 14,\n",
              " 16,\n",
              " 18,\n",
              " 20,\n",
              " 22,\n",
              " 24,\n",
              " 26,\n",
              " 28,\n",
              " 30,\n",
              " 32,\n",
              " 34,\n",
              " 36,\n",
              " 38,\n",
              " 40,\n",
              " 42,\n",
              " 44,\n",
              " 46,\n",
              " 48]"
            ]
          },
          "metadata": {
            "tags": []
          },
          "execution_count": 16
        }
      ]
    },
    {
      "cell_type": "code",
      "metadata": {
        "id": "Yuw7mwwdkbO1",
        "colab_type": "code",
        "colab": {
          "base_uri": "https://localhost:8080/",
          "height": 51
        },
        "outputId": "a19f8f90-debd-4734-a989-929ffa4d1003"
      },
      "source": [
        "z = np.arange(10, 50, 2)\n",
        "z"
      ],
      "execution_count": 19,
      "outputs": [
        {
          "output_type": "execute_result",
          "data": {
            "text/plain": [
              "array([10, 12, 14, 16, 18, 20, 22, 24, 26, 28, 30, 32, 34, 36, 38, 40, 42,\n",
              "       44, 46, 48])"
            ]
          },
          "metadata": {
            "tags": []
          },
          "execution_count": 19
        }
      ]
    },
    {
      "cell_type": "code",
      "metadata": {
        "id": "fRtftJX6ko7c",
        "colab_type": "code",
        "colab": {
          "base_uri": "https://localhost:8080/",
          "height": 120
        },
        "outputId": "969660e7-0615-4559-cc75-5be84e158971"
      },
      "source": [
        "print(z[2])\n",
        "print(z[5:])\n",
        "print(z[:5])\n",
        "print(z[2:5])\n",
        "print(z[-1])\n",
        "print(z[-2])\n"
      ],
      "execution_count": 25,
      "outputs": [
        {
          "output_type": "stream",
          "text": [
            "14\n",
            "[20 22 24 26 28 30 32 34 36 38 40 42 44 46 48]\n",
            "[10 12 14 16 18]\n",
            "[14 16 18]\n",
            "48\n",
            "46\n"
          ],
          "name": "stdout"
        }
      ]
    },
    {
      "cell_type": "code",
      "metadata": {
        "id": "OzE7p-OFkwDM",
        "colab_type": "code",
        "colab": {
          "base_uri": "https://localhost:8080/",
          "height": 51
        },
        "outputId": "639f01d8-477e-4d4f-8036-8ad15493797d"
      },
      "source": [
        "z[5:] = 100\n",
        "z"
      ],
      "execution_count": 27,
      "outputs": [
        {
          "output_type": "execute_result",
          "data": {
            "text/plain": [
              "array([ 10,  12,  14,  16,  18, 100, 100, 100, 100, 100, 100, 100, 100,\n",
              "       100, 100, 100, 100, 100, 100, 100])"
            ]
          },
          "metadata": {
            "tags": []
          },
          "execution_count": 27
        }
      ]
    },
    {
      "cell_type": "code",
      "metadata": {
        "id": "DYHuE200lE72",
        "colab_type": "code",
        "colab": {
          "base_uri": "https://localhost:8080/",
          "height": 120
        },
        "outputId": "7a486dea-7488-4947-f503-30dd30415519"
      },
      "source": [
        "np.arange(5, 201, 3)"
      ],
      "execution_count": 31,
      "outputs": [
        {
          "output_type": "execute_result",
          "data": {
            "text/plain": [
              "array([  5,   8,  11,  14,  17,  20,  23,  26,  29,  32,  35,  38,  41,\n",
              "        44,  47,  50,  53,  56,  59,  62,  65,  68,  71,  74,  77,  80,\n",
              "        83,  86,  89,  92,  95,  98, 101, 104, 107, 110, 113, 116, 119,\n",
              "       122, 125, 128, 131, 134, 137, 140, 143, 146, 149, 152, 155, 158,\n",
              "       161, 164, 167, 170, 173, 176, 179, 182, 185, 188, 191, 194, 197,\n",
              "       200])"
            ]
          },
          "metadata": {
            "tags": []
          },
          "execution_count": 31
        }
      ]
    },
    {
      "cell_type": "code",
      "metadata": {
        "id": "WW0DKmNGlSbF",
        "colab_type": "code",
        "colab": {
          "base_uri": "https://localhost:8080/",
          "height": 120
        },
        "outputId": "273da0bd-7100-47f1-f0b8-5833f565f8f5"
      },
      "source": [
        "z = np.arange(5, 201, 3).reshape((6, 11))\n",
        "z"
      ],
      "execution_count": 35,
      "outputs": [
        {
          "output_type": "execute_result",
          "data": {
            "text/plain": [
              "array([[  5,   8,  11,  14,  17,  20,  23,  26,  29,  32,  35],\n",
              "       [ 38,  41,  44,  47,  50,  53,  56,  59,  62,  65,  68],\n",
              "       [ 71,  74,  77,  80,  83,  86,  89,  92,  95,  98, 101],\n",
              "       [104, 107, 110, 113, 116, 119, 122, 125, 128, 131, 134],\n",
              "       [137, 140, 143, 146, 149, 152, 155, 158, 161, 164, 167],\n",
              "       [170, 173, 176, 179, 182, 185, 188, 191, 194, 197, 200]])"
            ]
          },
          "metadata": {
            "tags": []
          },
          "execution_count": 35
        }
      ]
    },
    {
      "cell_type": "code",
      "metadata": {
        "id": "b37mYSAPliWt",
        "colab_type": "code",
        "colab": {
          "base_uri": "https://localhost:8080/",
          "height": 34
        },
        "outputId": "7a7daa14-befd-41e6-ec23-f7a9d80d1bf6"
      },
      "source": [
        "z.shape"
      ],
      "execution_count": 36,
      "outputs": [
        {
          "output_type": "execute_result",
          "data": {
            "text/plain": [
              "(6, 11)"
            ]
          },
          "metadata": {
            "tags": []
          },
          "execution_count": 36
        }
      ]
    },
    {
      "cell_type": "code",
      "metadata": {
        "id": "caQd-8htlsok",
        "colab_type": "code",
        "colab": {
          "base_uri": "https://localhost:8080/",
          "height": 86
        },
        "outputId": "7a5a16da-51c4-43f6-98e7-84c73f8bf713"
      },
      "source": [
        "print(z[2, 3])\n",
        "print(z[1:4, 5:])\n"
      ],
      "execution_count": 38,
      "outputs": [
        {
          "output_type": "stream",
          "text": [
            "80\n",
            "[[ 53  56  59  62  65  68]\n",
            " [ 86  89  92  95  98 101]\n",
            " [119 122 125 128 131 134]]\n"
          ],
          "name": "stdout"
        }
      ]
    },
    {
      "cell_type": "markdown",
      "metadata": {
        "id": "SwkAGSX2mA-_",
        "colab_type": "text"
      },
      "source": [
        "memoria"
      ]
    },
    {
      "cell_type": "code",
      "metadata": {
        "id": "Hiw9mmMll48l",
        "colab_type": "code",
        "colab": {
          "base_uri": "https://localhost:8080/",
          "height": 51
        },
        "outputId": "7b8a1382-a063-4310-de08-3493c5074b2b"
      },
      "source": [
        "s = z[3:][:2]\n",
        "s[:] = 100\n",
        "s"
      ],
      "execution_count": 40,
      "outputs": [
        {
          "output_type": "execute_result",
          "data": {
            "text/plain": [
              "array([[100, 100, 100, 100, 100, 100, 100, 100, 100, 100, 100],\n",
              "       [100, 100, 100, 100, 100, 100, 100, 100, 100, 100, 100]])"
            ]
          },
          "metadata": {
            "tags": []
          },
          "execution_count": 40
        }
      ]
    },
    {
      "cell_type": "code",
      "metadata": {
        "id": "iRCaqXUzmKnl",
        "colab_type": "code",
        "colab": {
          "base_uri": "https://localhost:8080/",
          "height": 120
        },
        "outputId": "3d053499-e443-441a-f95b-5a9f25bdce04"
      },
      "source": [
        "z"
      ],
      "execution_count": 41,
      "outputs": [
        {
          "output_type": "execute_result",
          "data": {
            "text/plain": [
              "array([[  5,   8,  11,  14,  17,  20,  23,  26,  29,  32,  35],\n",
              "       [ 38,  41,  44,  47,  50,  53,  56,  59,  62,  65,  68],\n",
              "       [ 71,  74,  77,  80,  83,  86,  89,  92,  95,  98, 101],\n",
              "       [100, 100, 100, 100, 100, 100, 100, 100, 100, 100, 100],\n",
              "       [100, 100, 100, 100, 100, 100, 100, 100, 100, 100, 100],\n",
              "       [170, 173, 176, 179, 182, 185, 188, 191, 194, 197, 200]])"
            ]
          },
          "metadata": {
            "tags": []
          },
          "execution_count": 41
        }
      ]
    },
    {
      "cell_type": "code",
      "metadata": {
        "id": "r_kyMwstmRNE",
        "colab_type": "code",
        "colab": {
          "base_uri": "https://localhost:8080/",
          "height": 51
        },
        "outputId": "cbbaf68d-8348-4156-92b9-c675abbb1f75"
      },
      "source": [
        "f = s.copy()\n",
        "f"
      ],
      "execution_count": 43,
      "outputs": [
        {
          "output_type": "execute_result",
          "data": {
            "text/plain": [
              "array([[100, 100, 100, 100, 100, 100, 100, 100, 100, 100, 100],\n",
              "       [100, 100, 100, 100, 100, 100, 100, 100, 100, 100, 100]])"
            ]
          },
          "metadata": {
            "tags": []
          },
          "execution_count": 43
        }
      ]
    },
    {
      "cell_type": "code",
      "metadata": {
        "id": "WGfiEtHjmixc",
        "colab_type": "code",
        "colab": {
          "base_uri": "https://localhost:8080/",
          "height": 51
        },
        "outputId": "236d531c-14ec-4041-d17b-36de1c90faaa"
      },
      "source": [
        "f[:] = 10\n",
        "f"
      ],
      "execution_count": 44,
      "outputs": [
        {
          "output_type": "execute_result",
          "data": {
            "text/plain": [
              "array([[10, 10, 10, 10, 10, 10, 10, 10, 10, 10, 10],\n",
              "       [10, 10, 10, 10, 10, 10, 10, 10, 10, 10, 10]])"
            ]
          },
          "metadata": {
            "tags": []
          },
          "execution_count": 44
        }
      ]
    },
    {
      "cell_type": "code",
      "metadata": {
        "id": "sRVgKa_cmm20",
        "colab_type": "code",
        "colab": {
          "base_uri": "https://localhost:8080/",
          "height": 51
        },
        "outputId": "599037ea-91f3-4561-bed9-7deaa4915f5f"
      },
      "source": [
        "s"
      ],
      "execution_count": 45,
      "outputs": [
        {
          "output_type": "execute_result",
          "data": {
            "text/plain": [
              "array([[100, 100, 100, 100, 100, 100, 100, 100, 100, 100, 100],\n",
              "       [100, 100, 100, 100, 100, 100, 100, 100, 100, 100, 100]])"
            ]
          },
          "metadata": {
            "tags": []
          },
          "execution_count": 45
        }
      ]
    },
    {
      "cell_type": "markdown",
      "metadata": {
        "id": "Q5MxC4rimsnY",
        "colab_type": "text"
      },
      "source": [
        "Operações"
      ]
    },
    {
      "cell_type": "code",
      "metadata": {
        "id": "btX6YsU5mnsE",
        "colab_type": "code",
        "colab": {
          "base_uri": "https://localhost:8080/",
          "height": 120
        },
        "outputId": "d37f939d-0bb6-4fbf-c85c-e52103ca3b06"
      },
      "source": [
        "z = np.arange(5, 201, 3).reshape((6, 11))\n",
        "z"
      ],
      "execution_count": 46,
      "outputs": [
        {
          "output_type": "execute_result",
          "data": {
            "text/plain": [
              "array([[  5,   8,  11,  14,  17,  20,  23,  26,  29,  32,  35],\n",
              "       [ 38,  41,  44,  47,  50,  53,  56,  59,  62,  65,  68],\n",
              "       [ 71,  74,  77,  80,  83,  86,  89,  92,  95,  98, 101],\n",
              "       [104, 107, 110, 113, 116, 119, 122, 125, 128, 131, 134],\n",
              "       [137, 140, 143, 146, 149, 152, 155, 158, 161, 164, 167],\n",
              "       [170, 173, 176, 179, 182, 185, 188, 191, 194, 197, 200]])"
            ]
          },
          "metadata": {
            "tags": []
          },
          "execution_count": 46
        }
      ]
    },
    {
      "cell_type": "code",
      "metadata": {
        "id": "_iZs5d9Um3ik",
        "colab_type": "code",
        "colab": {
          "base_uri": "https://localhost:8080/",
          "height": 223
        },
        "outputId": "2243b867-96e5-4a12-da5d-693b3cd11f21"
      },
      "source": [
        "z >= 50"
      ],
      "execution_count": 48,
      "outputs": [
        {
          "output_type": "execute_result",
          "data": {
            "text/plain": [
              "array([[False, False, False, False, False, False, False, False, False,\n",
              "        False, False],\n",
              "       [False, False, False, False,  True,  True,  True,  True,  True,\n",
              "         True,  True],\n",
              "       [ True,  True,  True,  True,  True,  True,  True,  True,  True,\n",
              "         True,  True],\n",
              "       [ True,  True,  True,  True,  True,  True,  True,  True,  True,\n",
              "         True,  True],\n",
              "       [ True,  True,  True,  True,  True,  True,  True,  True,  True,\n",
              "         True,  True],\n",
              "       [ True,  True,  True,  True,  True,  True,  True,  True,  True,\n",
              "         True,  True]])"
            ]
          },
          "metadata": {
            "tags": []
          },
          "execution_count": 48
        }
      ]
    },
    {
      "cell_type": "code",
      "metadata": {
        "id": "b0LawzNlm7Sl",
        "colab_type": "code",
        "colab": {
          "base_uri": "https://localhost:8080/",
          "height": 120
        },
        "outputId": "ac8d7106-55fe-4c5b-d796-9233c4142ecd"
      },
      "source": [
        "print(z[z > 50])\n",
        "print(z[z % 2 == 0])\n",
        "print(z[z % 5 == 0])"
      ],
      "execution_count": 50,
      "outputs": [
        {
          "output_type": "stream",
          "text": [
            "[ 53  56  59  62  65  68  71  74  77  80  83  86  89  92  95  98 101 104\n",
            " 107 110 113 116 119 122 125 128 131 134 137 140 143 146 149 152 155 158\n",
            " 161 164 167 170 173 176 179 182 185 188 191 194 197 200]\n",
            "[  8  14  20  26  32  38  44  50  56  62  68  74  80  86  92  98 104 110\n",
            " 116 122 128 134 140 146 152 158 164 170 176 182 188 194 200]\n",
            "[  5  20  35  50  65  80  95 110 125 140 155 170 185 200]\n"
          ],
          "name": "stdout"
        }
      ]
    },
    {
      "cell_type": "code",
      "metadata": {
        "id": "4TxiqHHCnJF1",
        "colab_type": "code",
        "colab": {
          "base_uri": "https://localhost:8080/",
          "height": 154
        },
        "outputId": "742e616b-3d6c-43c3-e03b-3e684b662f45"
      },
      "source": [
        "z = np.linspace(5, 201, 30)\n",
        "z"
      ],
      "execution_count": 51,
      "outputs": [
        {
          "output_type": "execute_result",
          "data": {
            "text/plain": [
              "array([  5.        ,  11.75862069,  18.51724138,  25.27586207,\n",
              "        32.03448276,  38.79310345,  45.55172414,  52.31034483,\n",
              "        59.06896552,  65.82758621,  72.5862069 ,  79.34482759,\n",
              "        86.10344828,  92.86206897,  99.62068966, 106.37931034,\n",
              "       113.13793103, 119.89655172, 126.65517241, 133.4137931 ,\n",
              "       140.17241379, 146.93103448, 153.68965517, 160.44827586,\n",
              "       167.20689655, 173.96551724, 180.72413793, 187.48275862,\n",
              "       194.24137931, 201.        ])"
            ]
          },
          "metadata": {
            "tags": []
          },
          "execution_count": 51
        }
      ]
    },
    {
      "cell_type": "code",
      "metadata": {
        "id": "Pt7h4BmvnYm7",
        "colab_type": "code",
        "colab": {
          "base_uri": "https://localhost:8080/",
          "height": 34
        },
        "outputId": "03a78ff8-5200-43bd-aca8-26416ad61339"
      },
      "source": [
        "z.shape"
      ],
      "execution_count": 52,
      "outputs": [
        {
          "output_type": "execute_result",
          "data": {
            "text/plain": [
              "(30,)"
            ]
          },
          "metadata": {
            "tags": []
          },
          "execution_count": 52
        }
      ]
    },
    {
      "cell_type": "code",
      "metadata": {
        "id": "_8ThHm3ynh7T",
        "colab_type": "code",
        "colab": {
          "base_uri": "https://localhost:8080/",
          "height": 274
        },
        "outputId": "2d7a6ee3-0000-4af3-d831-a5726024a939"
      },
      "source": [
        "s = z.reshape(15, 2)\n",
        "s"
      ],
      "execution_count": 54,
      "outputs": [
        {
          "output_type": "execute_result",
          "data": {
            "text/plain": [
              "array([[  5.        ,  11.75862069],\n",
              "       [ 18.51724138,  25.27586207],\n",
              "       [ 32.03448276,  38.79310345],\n",
              "       [ 45.55172414,  52.31034483],\n",
              "       [ 59.06896552,  65.82758621],\n",
              "       [ 72.5862069 ,  79.34482759],\n",
              "       [ 86.10344828,  92.86206897],\n",
              "       [ 99.62068966, 106.37931034],\n",
              "       [113.13793103, 119.89655172],\n",
              "       [126.65517241, 133.4137931 ],\n",
              "       [140.17241379, 146.93103448],\n",
              "       [153.68965517, 160.44827586],\n",
              "       [167.20689655, 173.96551724],\n",
              "       [180.72413793, 187.48275862],\n",
              "       [194.24137931, 201.        ]])"
            ]
          },
          "metadata": {
            "tags": []
          },
          "execution_count": 54
        }
      ]
    },
    {
      "cell_type": "markdown",
      "metadata": {
        "id": "1bVukkl2nu60",
        "colab_type": "text"
      },
      "source": [
        "matrizes aleatorias"
      ]
    },
    {
      "cell_type": "code",
      "metadata": {
        "id": "wlx2a4O5nnLh",
        "colab_type": "code",
        "colab": {
          "base_uri": "https://localhost:8080/",
          "height": 68
        },
        "outputId": "ae8dcb0c-819b-4b52-fa4d-5c4c0045bb3b"
      },
      "source": [
        "np.random.randint(5, size=(3, 4))"
      ],
      "execution_count": 55,
      "outputs": [
        {
          "output_type": "execute_result",
          "data": {
            "text/plain": [
              "array([[4, 3, 0, 1],\n",
              "       [1, 2, 3, 0],\n",
              "       [4, 1, 2, 1]])"
            ]
          },
          "metadata": {
            "tags": []
          },
          "execution_count": 55
        }
      ]
    },
    {
      "cell_type": "code",
      "metadata": {
        "id": "M8xkqVdAn6_Q",
        "colab_type": "code",
        "colab": {
          "base_uri": "https://localhost:8080/",
          "height": 68
        },
        "outputId": "8c39d735-f3ef-41c2-e00d-1ee85b436594"
      },
      "source": [
        "np.random.rand(3, 4)"
      ],
      "execution_count": 58,
      "outputs": [
        {
          "output_type": "execute_result",
          "data": {
            "text/plain": [
              "array([[0.46405468, 0.70928196, 0.35059321, 0.26714073],\n",
              "       [0.21964355, 0.15023659, 0.70733996, 0.15157681],\n",
              "       [0.72257942, 0.20165117, 0.81634873, 0.83323204]])"
            ]
          },
          "metadata": {
            "tags": []
          },
          "execution_count": 58
        }
      ]
    },
    {
      "cell_type": "code",
      "metadata": {
        "id": "QEyBuMcJoAwo",
        "colab_type": "code",
        "colab": {
          "base_uri": "https://localhost:8080/",
          "height": 34
        },
        "outputId": "8f2532a9-fa84-4f7c-f194-1b8209b6b7ec"
      },
      "source": [
        "np.random.random_sample()"
      ],
      "execution_count": 62,
      "outputs": [
        {
          "output_type": "execute_result",
          "data": {
            "text/plain": [
              "0.6250926066919551"
            ]
          },
          "metadata": {
            "tags": []
          },
          "execution_count": 62
        }
      ]
    },
    {
      "cell_type": "code",
      "metadata": {
        "id": "AWOq0lRVoXBu",
        "colab_type": "code",
        "colab": {
          "base_uri": "https://localhost:8080/",
          "height": 68
        },
        "outputId": "300da5de-63d3-47f7-8d02-4ffaf42b6084"
      },
      "source": [
        "a, b = 5, 10\n",
        "(b - a) * np.random.random_sample((3, 4)) + a"
      ],
      "execution_count": 65,
      "outputs": [
        {
          "output_type": "execute_result",
          "data": {
            "text/plain": [
              "array([[9.31000515, 8.09924324, 7.52715653, 5.32677403],\n",
              "       [6.58573908, 8.57551102, 9.14700917, 6.15538432],\n",
              "       [7.0247793 , 9.46656405, 6.67831208, 8.55598742]])"
            ]
          },
          "metadata": {
            "tags": []
          },
          "execution_count": 65
        }
      ]
    },
    {
      "cell_type": "markdown",
      "metadata": {
        "id": "WZ_J7R6Ioze_",
        "colab_type": "text"
      },
      "source": [
        "Operações"
      ]
    },
    {
      "cell_type": "code",
      "metadata": {
        "id": "GuDKCg2zo02t",
        "colab_type": "code",
        "colab": {}
      },
      "source": [
        "a, b = np.random.randint(15, size=(3, 4)), np.random.randint(5, 20, size=(3, 4))"
      ],
      "execution_count": 0,
      "outputs": []
    },
    {
      "cell_type": "code",
      "metadata": {
        "id": "MhgBt--8oh-2",
        "colab_type": "code",
        "colab": {
          "base_uri": "https://localhost:8080/",
          "height": 34
        },
        "outputId": "b05453aa-074b-471c-c8b5-a9886e7a7569"
      },
      "source": [
        "type(a.tolist())"
      ],
      "execution_count": 70,
      "outputs": [
        {
          "output_type": "execute_result",
          "data": {
            "text/plain": [
              "list"
            ]
          },
          "metadata": {
            "tags": []
          },
          "execution_count": 70
        }
      ]
    },
    {
      "cell_type": "code",
      "metadata": {
        "id": "-HC28vv6pO15",
        "colab_type": "code",
        "colab": {
          "base_uri": "https://localhost:8080/",
          "height": 68
        },
        "outputId": "3693a91e-987c-4543-cc3d-e2ef77c13790"
      },
      "source": [
        "a"
      ],
      "execution_count": 96,
      "outputs": [
        {
          "output_type": "execute_result",
          "data": {
            "text/plain": [
              "array([[11, 13,  7,  4],\n",
              "       [ 3,  9,  8,  8],\n",
              "       [ 7, 14, 11,  2]])"
            ]
          },
          "metadata": {
            "tags": []
          },
          "execution_count": 96
        }
      ]
    },
    {
      "cell_type": "code",
      "metadata": {
        "id": "vyU8R4UEpBpc",
        "colab_type": "code",
        "colab": {
          "base_uri": "https://localhost:8080/",
          "height": 68
        },
        "outputId": "de982322-5075-427b-f836-85205e266efc"
      },
      "source": [
        "b"
      ],
      "execution_count": 97,
      "outputs": [
        {
          "output_type": "execute_result",
          "data": {
            "text/plain": [
              "array([[16, 10, 17, 19],\n",
              "       [15, 14, 11, 17],\n",
              "       [ 7, 17, 17,  5]])"
            ]
          },
          "metadata": {
            "tags": []
          },
          "execution_count": 97
        }
      ]
    },
    {
      "cell_type": "code",
      "metadata": {
        "id": "3lPri4f3pCPM",
        "colab_type": "code",
        "colab": {
          "base_uri": "https://localhost:8080/",
          "height": 68
        },
        "outputId": "7d189383-f7ea-4e6d-9349-30f23c416538"
      },
      "source": [
        "a + b"
      ],
      "execution_count": 98,
      "outputs": [
        {
          "output_type": "execute_result",
          "data": {
            "text/plain": [
              "array([[27, 23, 24, 23],\n",
              "       [18, 23, 19, 25],\n",
              "       [14, 31, 28,  7]])"
            ]
          },
          "metadata": {
            "tags": []
          },
          "execution_count": 98
        }
      ]
    },
    {
      "cell_type": "code",
      "metadata": {
        "id": "zS7FLI0FpQ7E",
        "colab_type": "code",
        "colab": {
          "base_uri": "https://localhost:8080/",
          "height": 68
        },
        "outputId": "003e0624-c541-4ae0-955c-d58aab7bad81"
      },
      "source": [
        "a - b"
      ],
      "execution_count": 99,
      "outputs": [
        {
          "output_type": "execute_result",
          "data": {
            "text/plain": [
              "array([[ -5,   3, -10, -15],\n",
              "       [-12,  -5,  -3,  -9],\n",
              "       [  0,  -3,  -6,  -3]])"
            ]
          },
          "metadata": {
            "tags": []
          },
          "execution_count": 99
        }
      ]
    },
    {
      "cell_type": "code",
      "metadata": {
        "id": "Oprs97RSpSj8",
        "colab_type": "code",
        "colab": {
          "base_uri": "https://localhost:8080/",
          "height": 68
        },
        "outputId": "04d3200a-c156-4ad0-8f43-fac6ba43bf63"
      },
      "source": [
        "a * b"
      ],
      "execution_count": 100,
      "outputs": [
        {
          "output_type": "execute_result",
          "data": {
            "text/plain": [
              "array([[176, 130, 119,  76],\n",
              "       [ 45, 126,  88, 136],\n",
              "       [ 49, 238, 187,  10]])"
            ]
          },
          "metadata": {
            "tags": []
          },
          "execution_count": 100
        }
      ]
    },
    {
      "cell_type": "code",
      "metadata": {
        "id": "rn9Ep77xpv7m",
        "colab_type": "code",
        "colab": {
          "base_uri": "https://localhost:8080/",
          "height": 68
        },
        "outputId": "c3ccb0ae-4f8c-4aef-b17d-0cfc186ac603"
      },
      "source": [
        "a / b"
      ],
      "execution_count": 101,
      "outputs": [
        {
          "output_type": "execute_result",
          "data": {
            "text/plain": [
              "array([[0.6875    , 1.3       , 0.41176471, 0.21052632],\n",
              "       [0.2       , 0.64285714, 0.72727273, 0.47058824],\n",
              "       [1.        , 0.82352941, 0.64705882, 0.4       ]])"
            ]
          },
          "metadata": {
            "tags": []
          },
          "execution_count": 101
        }
      ]
    },
    {
      "cell_type": "code",
      "metadata": {
        "id": "4wHSzRGWpsM9",
        "colab_type": "code",
        "colab": {}
      },
      "source": [
        "a, b = np.random.randint(15, size=(3, 4)), np.random.randint(5, 20, size=(4, 3))"
      ],
      "execution_count": 0,
      "outputs": []
    },
    {
      "cell_type": "code",
      "metadata": {
        "id": "KjfjqqcjpVVs",
        "colab_type": "code",
        "colab": {
          "base_uri": "https://localhost:8080/",
          "height": 68
        },
        "outputId": "223cbda9-282a-4aa9-9c74-4417bc5fb4a3"
      },
      "source": [
        "np.matmul(a, b)"
      ],
      "execution_count": 92,
      "outputs": [
        {
          "output_type": "execute_result",
          "data": {
            "text/plain": [
              "array([[452, 389, 415],\n",
              "       [432, 369, 412],\n",
              "       [492, 449, 480]])"
            ]
          },
          "metadata": {
            "tags": []
          },
          "execution_count": 92
        }
      ]
    },
    {
      "cell_type": "code",
      "metadata": {
        "id": "Y16_PDXQqK1N",
        "colab_type": "code",
        "colab": {}
      },
      "source": [
        "a = np.random.randint(15, size=(3, 3))"
      ],
      "execution_count": 0,
      "outputs": []
    },
    {
      "cell_type": "code",
      "metadata": {
        "id": "NTfd38MOpcrj",
        "colab_type": "code",
        "colab": {
          "base_uri": "https://localhost:8080/",
          "height": 34
        },
        "outputId": "fd451e26-4ea6-4f12-b589-1289506e785c"
      },
      "source": [
        "np.linalg.det(a)"
      ],
      "execution_count": 105,
      "outputs": [
        {
          "output_type": "execute_result",
          "data": {
            "text/plain": [
              "-78.00000000000007"
            ]
          },
          "metadata": {
            "tags": []
          },
          "execution_count": 105
        }
      ]
    },
    {
      "cell_type": "code",
      "metadata": {
        "id": "nAvsvHiOpaa8",
        "colab_type": "code",
        "colab": {
          "base_uri": "https://localhost:8080/",
          "height": 68
        },
        "outputId": "1fcdd211-8804-4690-ff51-b8d6ad9e2ed2"
      },
      "source": [
        "np.linalg.inv(a)"
      ],
      "execution_count": 106,
      "outputs": [
        {
          "output_type": "execute_result",
          "data": {
            "text/plain": [
              "array([[ 1.48717949, -0.58974359,  0.07692308],\n",
              "       [-2.16666667,  0.83333333,  0.        ],\n",
              "       [ 1.5       , -0.5       ,  0.        ]])"
            ]
          },
          "metadata": {
            "tags": []
          },
          "execution_count": 106
        }
      ]
    },
    {
      "cell_type": "code",
      "metadata": {
        "id": "iKvzg1DTqQRz",
        "colab_type": "code",
        "colab": {}
      },
      "source": [
        ""
      ],
      "execution_count": 0,
      "outputs": []
    }
  ]
}