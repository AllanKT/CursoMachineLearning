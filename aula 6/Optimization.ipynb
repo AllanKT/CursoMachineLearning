{
  "nbformat": 4,
  "nbformat_minor": 0,
  "metadata": {
    "colab": {
      "name": "Optimization.ipynb",
      "version": "0.3.2",
      "provenance": [],
      "collapsed_sections": []
    },
    "kernelspec": {
      "name": "python3",
      "display_name": "Python 3"
    }
  },
  "cells": [
    {
      "cell_type": "code",
      "metadata": {
        "id": "OQqdlIv-lrXO",
        "colab_type": "code",
        "colab": {}
      },
      "source": [
        "import warnings\n",
        "warnings.filterwarnings('ignore')"
      ],
      "execution_count": 0,
      "outputs": []
    },
    {
      "cell_type": "code",
      "metadata": {
        "id": "afrcCF1PxFSj",
        "colab_type": "code",
        "colab": {}
      },
      "source": [
        "import pandas as pd\n",
        "import numpy as np\n",
        "import matplotlib.pyplot as plt\n",
        "import seaborn as sns\n",
        "\n",
        "from pprint import pprint"
      ],
      "execution_count": 0,
      "outputs": []
    },
    {
      "cell_type": "code",
      "metadata": {
        "id": "qBAvIvx5zGzr",
        "colab_type": "code",
        "colab": {}
      },
      "source": [
        "from scipy.stats import uniform\n",
        "from sklearn.model_selection import train_test_split, RandomizedSearchCV, GridSearchCV, KFold\n",
        "from sklearn.multiclass import OneVsRestClassifier\n",
        "from sklearn.linear_model import LogisticRegression\n",
        "from sklearn.metrics import confusion_matrix, accuracy_score, recall_score, precision_score"
      ],
      "execution_count": 0,
      "outputs": []
    },
    {
      "cell_type": "code",
      "metadata": {
        "id": "ywMzOtl4xL0b",
        "colab_type": "code",
        "outputId": "2721b70c-fe46-4603-fd09-43daadb71899",
        "colab": {
          "base_uri": "https://localhost:8080/",
          "height": 257
        }
      },
      "source": [
        "data = pd.read_csv('breast-cancer-wisconsin.csv',header=None)\n",
        "\n",
        "#set column names\n",
        "data.columns = ['Sample Code Number','Clump Thickness','Uniformity of Cell Size',\n",
        "                'Uniformity of Cell Shape','Marginal Adhesion','Single Epithelial Cell Size',\n",
        "                'Bare Nuclei','Bland Chromatin','Normal Nucleoli','Mitoses','Class']\n",
        "\n",
        "data.head()"
      ],
      "execution_count": 0,
      "outputs": [
        {
          "output_type": "execute_result",
          "data": {
            "text/html": [
              "<div>\n",
              "<style scoped>\n",
              "    .dataframe tbody tr th:only-of-type {\n",
              "        vertical-align: middle;\n",
              "    }\n",
              "\n",
              "    .dataframe tbody tr th {\n",
              "        vertical-align: top;\n",
              "    }\n",
              "\n",
              "    .dataframe thead th {\n",
              "        text-align: right;\n",
              "    }\n",
              "</style>\n",
              "<table border=\"1\" class=\"dataframe\">\n",
              "  <thead>\n",
              "    <tr style=\"text-align: right;\">\n",
              "      <th></th>\n",
              "      <th>Sample Code Number</th>\n",
              "      <th>Clump Thickness</th>\n",
              "      <th>Uniformity of Cell Size</th>\n",
              "      <th>Uniformity of Cell Shape</th>\n",
              "      <th>Marginal Adhesion</th>\n",
              "      <th>Single Epithelial Cell Size</th>\n",
              "      <th>Bare Nuclei</th>\n",
              "      <th>Bland Chromatin</th>\n",
              "      <th>Normal Nucleoli</th>\n",
              "      <th>Mitoses</th>\n",
              "      <th>Class</th>\n",
              "    </tr>\n",
              "  </thead>\n",
              "  <tbody>\n",
              "    <tr>\n",
              "      <th>0</th>\n",
              "      <td>1000025</td>\n",
              "      <td>5</td>\n",
              "      <td>1</td>\n",
              "      <td>1</td>\n",
              "      <td>1</td>\n",
              "      <td>2</td>\n",
              "      <td>1</td>\n",
              "      <td>3</td>\n",
              "      <td>1</td>\n",
              "      <td>1</td>\n",
              "      <td>2</td>\n",
              "    </tr>\n",
              "    <tr>\n",
              "      <th>1</th>\n",
              "      <td>1002945</td>\n",
              "      <td>5</td>\n",
              "      <td>4</td>\n",
              "      <td>4</td>\n",
              "      <td>5</td>\n",
              "      <td>7</td>\n",
              "      <td>10</td>\n",
              "      <td>3</td>\n",
              "      <td>2</td>\n",
              "      <td>1</td>\n",
              "      <td>2</td>\n",
              "    </tr>\n",
              "    <tr>\n",
              "      <th>2</th>\n",
              "      <td>1015425</td>\n",
              "      <td>3</td>\n",
              "      <td>1</td>\n",
              "      <td>1</td>\n",
              "      <td>1</td>\n",
              "      <td>2</td>\n",
              "      <td>2</td>\n",
              "      <td>3</td>\n",
              "      <td>1</td>\n",
              "      <td>1</td>\n",
              "      <td>2</td>\n",
              "    </tr>\n",
              "    <tr>\n",
              "      <th>3</th>\n",
              "      <td>1016277</td>\n",
              "      <td>6</td>\n",
              "      <td>8</td>\n",
              "      <td>8</td>\n",
              "      <td>1</td>\n",
              "      <td>3</td>\n",
              "      <td>4</td>\n",
              "      <td>3</td>\n",
              "      <td>7</td>\n",
              "      <td>1</td>\n",
              "      <td>2</td>\n",
              "    </tr>\n",
              "    <tr>\n",
              "      <th>4</th>\n",
              "      <td>1017023</td>\n",
              "      <td>4</td>\n",
              "      <td>1</td>\n",
              "      <td>1</td>\n",
              "      <td>3</td>\n",
              "      <td>2</td>\n",
              "      <td>1</td>\n",
              "      <td>3</td>\n",
              "      <td>1</td>\n",
              "      <td>1</td>\n",
              "      <td>2</td>\n",
              "    </tr>\n",
              "  </tbody>\n",
              "</table>\n",
              "</div>"
            ],
            "text/plain": [
              "   Sample Code Number  Clump Thickness  ...  Mitoses  Class\n",
              "0             1000025                5  ...        1      2\n",
              "1             1002945                5  ...        1      2\n",
              "2             1015425                3  ...        1      2\n",
              "3             1016277                6  ...        1      2\n",
              "4             1017023                4  ...        1      2\n",
              "\n",
              "[5 rows x 11 columns]"
            ]
          },
          "metadata": {
            "tags": []
          },
          "execution_count": 47
        }
      ]
    },
    {
      "cell_type": "code",
      "metadata": {
        "id": "uI8AdVOKxhdj",
        "colab_type": "code",
        "outputId": "b5432e0c-cadd-4eb6-9aac-706a121e93b6",
        "colab": {
          "base_uri": "https://localhost:8080/",
          "height": 35
        }
      },
      "source": [
        "df.shape"
      ],
      "execution_count": 0,
      "outputs": [
        {
          "output_type": "execute_result",
          "data": {
            "text/plain": [
              "(698, 11)"
            ]
          },
          "metadata": {
            "tags": []
          },
          "execution_count": 14
        }
      ]
    },
    {
      "cell_type": "code",
      "metadata": {
        "id": "nfb2A6w6y4kj",
        "colab_type": "code",
        "outputId": "cb041a14-219d-4d4c-b34d-bd098d056660",
        "colab": {
          "base_uri": "https://localhost:8080/",
          "height": 257
        }
      },
      "source": [
        "#Data cleaning\n",
        "data = data.drop(['Sample Code Number'],axis=1) #Drop 1st column\n",
        "data = data[data['Bare Nuclei'] != '?'] #Remove rows with missing data\n",
        "data['Class'] = np.where(data['Class'] == 2,0,1) #Change the Class representation\n",
        "data.head() #View top 10 rows"
      ],
      "execution_count": 0,
      "outputs": [
        {
          "output_type": "execute_result",
          "data": {
            "text/html": [
              "<div>\n",
              "<style scoped>\n",
              "    .dataframe tbody tr th:only-of-type {\n",
              "        vertical-align: middle;\n",
              "    }\n",
              "\n",
              "    .dataframe tbody tr th {\n",
              "        vertical-align: top;\n",
              "    }\n",
              "\n",
              "    .dataframe thead th {\n",
              "        text-align: right;\n",
              "    }\n",
              "</style>\n",
              "<table border=\"1\" class=\"dataframe\">\n",
              "  <thead>\n",
              "    <tr style=\"text-align: right;\">\n",
              "      <th></th>\n",
              "      <th>Clump Thickness</th>\n",
              "      <th>Uniformity of Cell Size</th>\n",
              "      <th>Uniformity of Cell Shape</th>\n",
              "      <th>Marginal Adhesion</th>\n",
              "      <th>Single Epithelial Cell Size</th>\n",
              "      <th>Bare Nuclei</th>\n",
              "      <th>Bland Chromatin</th>\n",
              "      <th>Normal Nucleoli</th>\n",
              "      <th>Mitoses</th>\n",
              "      <th>Class</th>\n",
              "    </tr>\n",
              "  </thead>\n",
              "  <tbody>\n",
              "    <tr>\n",
              "      <th>0</th>\n",
              "      <td>5</td>\n",
              "      <td>1</td>\n",
              "      <td>1</td>\n",
              "      <td>1</td>\n",
              "      <td>2</td>\n",
              "      <td>1</td>\n",
              "      <td>3</td>\n",
              "      <td>1</td>\n",
              "      <td>1</td>\n",
              "      <td>0</td>\n",
              "    </tr>\n",
              "    <tr>\n",
              "      <th>1</th>\n",
              "      <td>5</td>\n",
              "      <td>4</td>\n",
              "      <td>4</td>\n",
              "      <td>5</td>\n",
              "      <td>7</td>\n",
              "      <td>10</td>\n",
              "      <td>3</td>\n",
              "      <td>2</td>\n",
              "      <td>1</td>\n",
              "      <td>0</td>\n",
              "    </tr>\n",
              "    <tr>\n",
              "      <th>2</th>\n",
              "      <td>3</td>\n",
              "      <td>1</td>\n",
              "      <td>1</td>\n",
              "      <td>1</td>\n",
              "      <td>2</td>\n",
              "      <td>2</td>\n",
              "      <td>3</td>\n",
              "      <td>1</td>\n",
              "      <td>1</td>\n",
              "      <td>0</td>\n",
              "    </tr>\n",
              "    <tr>\n",
              "      <th>3</th>\n",
              "      <td>6</td>\n",
              "      <td>8</td>\n",
              "      <td>8</td>\n",
              "      <td>1</td>\n",
              "      <td>3</td>\n",
              "      <td>4</td>\n",
              "      <td>3</td>\n",
              "      <td>7</td>\n",
              "      <td>1</td>\n",
              "      <td>0</td>\n",
              "    </tr>\n",
              "    <tr>\n",
              "      <th>4</th>\n",
              "      <td>4</td>\n",
              "      <td>1</td>\n",
              "      <td>1</td>\n",
              "      <td>3</td>\n",
              "      <td>2</td>\n",
              "      <td>1</td>\n",
              "      <td>3</td>\n",
              "      <td>1</td>\n",
              "      <td>1</td>\n",
              "      <td>0</td>\n",
              "    </tr>\n",
              "  </tbody>\n",
              "</table>\n",
              "</div>"
            ],
            "text/plain": [
              "   Clump Thickness  Uniformity of Cell Size  ...  Mitoses  Class\n",
              "0                5                        1  ...        1      0\n",
              "1                5                        4  ...        1      0\n",
              "2                3                        1  ...        1      0\n",
              "3                6                        8  ...        1      0\n",
              "4                4                        1  ...        1      0\n",
              "\n",
              "[5 rows x 10 columns]"
            ]
          },
          "metadata": {
            "tags": []
          },
          "execution_count": 48
        }
      ]
    },
    {
      "cell_type": "code",
      "metadata": {
        "id": "0s6tvP3N0sHy",
        "colab_type": "code",
        "colab": {}
      },
      "source": [
        "#Split data into attributes and class\n",
        "X = data.drop(['Class'],axis=1)\n",
        "y = data['Class']"
      ],
      "execution_count": 0,
      "outputs": []
    },
    {
      "cell_type": "code",
      "metadata": {
        "id": "Z7S-szWxzDVb",
        "colab_type": "code",
        "colab": {}
      },
      "source": [
        "X_train, X_test, y_train, y_test = train_test_split(X, y, random_state=42)"
      ],
      "execution_count": 0,
      "outputs": []
    },
    {
      "cell_type": "code",
      "metadata": {
        "id": "iIV_1E3zzYWa",
        "colab_type": "code",
        "outputId": "312e2f46-b697-495a-cc21-5ae7a71ed39b",
        "colab": {
          "base_uri": "https://localhost:8080/",
          "height": 104
        }
      },
      "source": [
        "clf = LogisticRegression()\n",
        "clf.fit(X_train, y_train)"
      ],
      "execution_count": 0,
      "outputs": [
        {
          "output_type": "execute_result",
          "data": {
            "text/plain": [
              "LogisticRegression(C=1.0, class_weight=None, dual=False, fit_intercept=True,\n",
              "                   intercept_scaling=1, l1_ratio=None, max_iter=100,\n",
              "                   multi_class='warn', n_jobs=None, penalty='l2',\n",
              "                   random_state=None, solver='warn', tol=0.0001, verbose=0,\n",
              "                   warm_start=False)"
            ]
          },
          "metadata": {
            "tags": []
          },
          "execution_count": 53
        }
      ]
    },
    {
      "cell_type": "code",
      "metadata": {
        "id": "h-b0rQI30vca",
        "colab_type": "code",
        "colab": {}
      },
      "source": [
        "y_pred = clf.predict(X_test)"
      ],
      "execution_count": 0,
      "outputs": []
    },
    {
      "cell_type": "code",
      "metadata": {
        "id": "QSOoVHPN02mT",
        "colab_type": "code",
        "outputId": "0dbf8abf-8231-40b1-bb43-4046815bae7c",
        "colab": {
          "base_uri": "https://localhost:8080/",
          "height": 283
        }
      },
      "source": [
        "mat = confusion_matrix(y_test, y_pred)\n",
        "sns.heatmap(mat.T, square=True, annot=True, fmt='d', cbar=False)\n",
        "plt.xlabel('true label')\n",
        "plt.ylabel('predicted label');"
      ],
      "execution_count": 0,
      "outputs": [
        {
          "output_type": "display_data",
          "data": {
            "image/png": "[encoded data removed]",
            "text/plain": [
              "<Figure size 432x288 with 1 Axes>"
            ]
          },
          "metadata": {
            "tags": []
          }
        }
      ]
    },
    {
      "cell_type": "code",
      "metadata": {
        "id": "30h4RM4v2ckh",
        "colab_type": "code",
        "outputId": "1755cb0e-f35f-4d9b-8567-a68f691da0eb",
        "colab": {
          "base_uri": "https://localhost:8080/",
          "height": 35
        }
      },
      "source": [
        "accuracy_score(y_test, y_pred)"
      ],
      "execution_count": 0,
      "outputs": [
        {
          "output_type": "execute_result",
          "data": {
            "text/plain": [
              "0.9473684210526315"
            ]
          },
          "metadata": {
            "tags": []
          },
          "execution_count": 61
        }
      ]
    },
    {
      "cell_type": "code",
      "metadata": {
        "id": "3gU3aggh2jOk",
        "colab_type": "code",
        "outputId": "94f44232-d474-4dad-cc7e-f368a77f7826",
        "colab": {
          "base_uri": "https://localhost:8080/",
          "height": 35
        }
      },
      "source": [
        "recall_score(y_test, y_pred)"
      ],
      "execution_count": 0,
      "outputs": [
        {
          "output_type": "execute_result",
          "data": {
            "text/plain": [
              "0.8823529411764706"
            ]
          },
          "metadata": {
            "tags": []
          },
          "execution_count": 62
        }
      ]
    },
    {
      "cell_type": "code",
      "metadata": {
        "id": "EPh0CWUL2oIQ",
        "colab_type": "code",
        "outputId": "a6152322-c813-4abf-8379-df188f6f3067",
        "colab": {
          "base_uri": "https://localhost:8080/",
          "height": 35
        }
      },
      "source": [
        "precision_score(y_test, y_pred)"
      ],
      "execution_count": 0,
      "outputs": [
        {
          "output_type": "execute_result",
          "data": {
            "text/plain": [
              "0.9836065573770492"
            ]
          },
          "metadata": {
            "tags": []
          },
          "execution_count": 63
        }
      ]
    },
    {
      "cell_type": "code",
      "metadata": {
        "id": "vt6ydTGc23xB",
        "colab_type": "code",
        "colab": {}
      },
      "source": [
        "values = {'penalty': ['l1', 'l2'], 'C': uniform(loc=0, scale=4)}"
      ],
      "execution_count": 0,
      "outputs": []
    },
    {
      "cell_type": "code",
      "metadata": {
        "id": "qmBtRby-3nfo",
        "colab_type": "code",
        "colab": {}
      },
      "source": [
        "clf = LogisticRegression()\n",
        "random_clf = RandomizedSearchCV(clf, param_distributions=values, scoring='recall')"
      ],
      "execution_count": 0,
      "outputs": []
    },
    {
      "cell_type": "code",
      "metadata": {
        "id": "yuW_ncTe34wI",
        "colab_type": "code",
        "outputId": "0fa964c9-5f44-4fec-e7f7-691e31558822",
        "colab": {
          "base_uri": "https://localhost:8080/",
          "height": 280
        }
      },
      "source": [
        "random_clf.fit(X_train, y_train)"
      ],
      "execution_count": 0,
      "outputs": [
        {
          "output_type": "execute_result",
          "data": {
            "text/plain": [
              "RandomizedSearchCV(cv='warn', error_score='raise-deprecating',\n",
              "                   estimator=LogisticRegression(C=1.0, class_weight=None,\n",
              "                                                dual=False, fit_intercept=True,\n",
              "                                                intercept_scaling=1,\n",
              "                                                l1_ratio=None, max_iter=100,\n",
              "                                                multi_class='warn', n_jobs=None,\n",
              "                                                penalty='l2', random_state=None,\n",
              "                                                solver='warn', tol=0.0001,\n",
              "                                                verbose=0, warm_start=False),\n",
              "                   iid='warn', n_iter=10, n_jobs=None,\n",
              "                   param_distributions={'C': <scipy.stats._distn_infrastructure.rv_frozen object at 0x7ff5c5b65d30>,\n",
              "                                        'penalty': ['l1', 'l2']},\n",
              "                   pre_dispatch='2*n_jobs', random_state=None, refit=True,\n",
              "                   return_train_score=False, scoring='recall', verbose=0)"
            ]
          },
          "metadata": {
            "tags": []
          },
          "execution_count": 69
        }
      ]
    },
    {
      "cell_type": "code",
      "metadata": {
        "id": "pL4-BCzC38im",
        "colab_type": "code",
        "outputId": "b6f5437f-1ba2-4ee8-9430-d5ecccdd5ec8",
        "colab": {
          "base_uri": "https://localhost:8080/",
          "height": 589
        }
      },
      "source": [
        "random_clf.get_params()"
      ],
      "execution_count": 0,
      "outputs": [
        {
          "output_type": "execute_result",
          "data": {
            "text/plain": [
              "{'cv': 'warn',\n",
              " 'error_score': 'raise-deprecating',\n",
              " 'estimator': LogisticRegression(C=1.0, class_weight=None, dual=False, fit_intercept=True,\n",
              "                    intercept_scaling=1, l1_ratio=None, max_iter=100,\n",
              "                    multi_class='warn', n_jobs=None, penalty='l2',\n",
              "                    random_state=None, solver='warn', tol=0.0001, verbose=0,\n",
              "                    warm_start=False),\n",
              " 'estimator__C': 1.0,\n",
              " 'estimator__class_weight': None,\n",
              " 'estimator__dual': False,\n",
              " 'estimator__fit_intercept': True,\n",
              " 'estimator__intercept_scaling': 1,\n",
              " 'estimator__l1_ratio': None,\n",
              " 'estimator__max_iter': 100,\n",
              " 'estimator__multi_class': 'warn',\n",
              " 'estimator__n_jobs': None,\n",
              " 'estimator__penalty': 'l2',\n",
              " 'estimator__random_state': None,\n",
              " 'estimator__solver': 'warn',\n",
              " 'estimator__tol': 0.0001,\n",
              " 'estimator__verbose': 0,\n",
              " 'estimator__warm_start': False,\n",
              " 'iid': 'warn',\n",
              " 'n_iter': 10,\n",
              " 'n_jobs': None,\n",
              " 'param_distributions': {'C': <scipy.stats._distn_infrastructure.rv_frozen at 0x7ff5c5b65d30>,\n",
              "  'penalty': ['l1', 'l2']},\n",
              " 'pre_dispatch': '2*n_jobs',\n",
              " 'random_state': None,\n",
              " 'refit': True,\n",
              " 'return_train_score': False,\n",
              " 'scoring': 'recall',\n",
              " 'verbose': 0}"
            ]
          },
          "metadata": {
            "tags": []
          },
          "execution_count": 70
        }
      ]
    },
    {
      "cell_type": "code",
      "metadata": {
        "id": "pRtXOh5G4Kuk",
        "colab_type": "code",
        "colab": {}
      },
      "source": [
        "values = {'penalty': ['l1', 'l2'], 'C': [0.001, 0.09, 0.01, .09, 1, 5, 10, 25]}"
      ],
      "execution_count": 0,
      "outputs": []
    },
    {
      "cell_type": "code",
      "metadata": {
        "id": "2XM8loTK4T1s",
        "colab_type": "code",
        "colab": {}
      },
      "source": [
        "clf = LogisticRegression()\n",
        "grid_clf = GridSearchCV(clf, param_grid=values, scoring='recall')"
      ],
      "execution_count": 0,
      "outputs": []
    },
    {
      "cell_type": "code",
      "metadata": {
        "id": "IsepH3R74lGy",
        "colab_type": "code",
        "outputId": "7dfd2399-2d3b-4c6f-ef7a-bb2340c92189",
        "colab": {
          "base_uri": "https://localhost:8080/",
          "height": 260
        }
      },
      "source": [
        "grid_clf.fit(X_train, y_train)"
      ],
      "execution_count": 0,
      "outputs": [
        {
          "output_type": "execute_result",
          "data": {
            "text/plain": [
              "GridSearchCV(cv='warn', error_score='raise-deprecating',\n",
              "             estimator=LogisticRegression(C=1.0, class_weight=None, dual=False,\n",
              "                                          fit_intercept=True,\n",
              "                                          intercept_scaling=1, l1_ratio=None,\n",
              "                                          max_iter=100, multi_class='warn',\n",
              "                                          n_jobs=None, penalty='l2',\n",
              "                                          random_state=None, solver='warn',\n",
              "                                          tol=0.0001, verbose=0,\n",
              "                                          warm_start=False),\n",
              "             iid='warn', n_jobs=None,\n",
              "             param_grid={'C': [0.001, 0.09, 0.01, 0.09, 1, 5, 10, 25],\n",
              "                         'penalty': ['l1', 'l2']},\n",
              "             pre_dispatch='2*n_jobs', refit=True, return_train_score=False,\n",
              "             scoring='recall', verbose=0)"
            ]
          },
          "metadata": {
            "tags": []
          },
          "execution_count": 74
        }
      ]
    },
    {
      "cell_type": "code",
      "metadata": {
        "id": "zJ4-Sign4oqx",
        "colab_type": "code",
        "outputId": "52a2d049-7f7f-45d8-8518-f5d8b1879af2",
        "colab": {
          "base_uri": "https://localhost:8080/",
          "height": 35
        }
      },
      "source": [
        "grid_clf.best_params_"
      ],
      "execution_count": 0,
      "outputs": [
        {
          "output_type": "execute_result",
          "data": {
            "text/plain": [
              "{'C': 0.01, 'penalty': 'l1'}"
            ]
          },
          "metadata": {
            "tags": []
          },
          "execution_count": 77
        }
      ]
    },
    {
      "cell_type": "code",
      "metadata": {
        "id": "NrHT4j2740zy",
        "colab_type": "code",
        "colab": {}
      },
      "source": [
        "y_pred_grid = grid_clf.predict(X_test)"
      ],
      "execution_count": 0,
      "outputs": []
    },
    {
      "cell_type": "code",
      "metadata": {
        "id": "_Jwr0P_Q4sBn",
        "colab_type": "code",
        "outputId": "c8b45d57-51ac-49e9-b786-e7ecf2286d19",
        "colab": {
          "base_uri": "https://localhost:8080/",
          "height": 35
        }
      },
      "source": [
        "accuracy_score(y_test, y_pred_grid)"
      ],
      "execution_count": 0,
      "outputs": [
        {
          "output_type": "execute_result",
          "data": {
            "text/plain": [
              "0.9298245614035088"
            ]
          },
          "metadata": {
            "tags": []
          },
          "execution_count": 79
        }
      ]
    },
    {
      "cell_type": "code",
      "metadata": {
        "id": "L1WtA38849_g",
        "colab_type": "code",
        "outputId": "74d0c332-37b1-4d60-9d4f-d29d4df75792",
        "colab": {
          "base_uri": "https://localhost:8080/",
          "height": 35
        }
      },
      "source": [
        "recall_score(y_test, y_pred_grid)"
      ],
      "execution_count": 0,
      "outputs": [
        {
          "output_type": "execute_result",
          "data": {
            "text/plain": [
              "0.8970588235294118"
            ]
          },
          "metadata": {
            "tags": []
          },
          "execution_count": 80
        }
      ]
    },
    {
      "cell_type": "code",
      "metadata": {
        "id": "qJfWI9zj5DKf",
        "colab_type": "code",
        "outputId": "32f2828b-9b6c-4de2-c4f9-d416f71dd8c9",
        "colab": {
          "base_uri": "https://localhost:8080/",
          "height": 35
        }
      },
      "source": [
        "precision_score(y_test, y_pred_grid)"
      ],
      "execution_count": 0,
      "outputs": [
        {
          "output_type": "execute_result",
          "data": {
            "text/plain": [
              "0.9242424242424242"
            ]
          },
          "metadata": {
            "tags": []
          },
          "execution_count": 81
        }
      ]
    },
    {
      "cell_type": "code",
      "metadata": {
        "id": "AskhjT0A5H2n",
        "colab_type": "code",
        "outputId": "3e7ae95a-91dc-4de4-8118-3d41c7db2c1f",
        "colab": {
          "base_uri": "https://localhost:8080/",
          "height": 283
        }
      },
      "source": [
        "mat = confusion_matrix(y_test, y_pred_grid)\n",
        "sns.heatmap(mat.T, square=True, annot=True, fmt='d', cbar=False)\n",
        "plt.xlabel('true label')\n",
        "plt.ylabel('predicted label');"
      ],
      "execution_count": 0,
      "outputs": [
        {
          "output_type": "display_data",
          "data": {
            "image/png": "[encoded data removed]",
            "text/plain": [
              "<Figure size 432x288 with 1 Axes>"
            ]
          },
          "metadata": {
            "tags": []
          }
        }
      ]
    },
    {
      "cell_type": "code",
      "metadata": {
        "id": "ueFBrm1Q5QSA",
        "colab_type": "code",
        "colab": {}
      },
      "source": [
        "clf = LogisticRegression()\n",
        "grid_clf = GridSearchCV(clf, param_grid=values, scoring='recall')\n",
        "kf = KFold(n_splits=5, shuffle=True)"
      ],
      "execution_count": 0,
      "outputs": []
    },
    {
      "cell_type": "code",
      "metadata": {
        "id": "G6brwYZN7Hr8",
        "colab_type": "code",
        "outputId": "68c38b9b-f1ce-40b7-b1e7-9b21b128ace0",
        "colab": {
          "base_uri": "https://localhost:8080/",
          "height": 72
        }
      },
      "source": [
        "scores, predictions, params = [], [], []\n",
        "for i in range(5):\n",
        "    result = next(kf.split(X_train), None)\n",
        "    X1_train = X_train.iloc[result[0]]\n",
        "    X1_test = X_train.iloc[result[1]]\n",
        "    y1_train = y_train.iloc[result[0]]\n",
        "    y1_test = y_train.iloc[result[1]]\n",
        "    model = grid_clf.fit(X1_train, y1_train)\n",
        "    predictions.append(grid_clf.predict(X1_test))\n",
        "    params.append(model.best_params_)\n",
        "    scores.append(model.score(X1_test,y1_test))\n",
        "print('Scores from each Iteration: ', scores)\n",
        "print('Average K-Fold Score :' , np.mean(scores))"
      ],
      "execution_count": 0,
      "outputs": [
        {
          "output_type": "stream",
          "text": [
            "Scores from each Iteration:  [0.9655172413793104, 0.9655172413793104, 0.972972972972973, 0.9230769230769231, 0.9285714285714286]\n",
            "Average K-Fold Score : 0.9511311614759892\n"
          ],
          "name": "stdout"
        }
      ]
    },
    {
      "cell_type": "code",
      "metadata": {
        "id": "wkvuMSld7jFi",
        "colab_type": "code",
        "outputId": "12975a0c-3dd6-4796-a139-5796629fa7c4",
        "colab": {
          "base_uri": "https://localhost:8080/",
          "height": 104
        }
      },
      "source": [
        "pprint(params)"
      ],
      "execution_count": 0,
      "outputs": [
        {
          "output_type": "stream",
          "text": [
            "[{'C': 0.01, 'penalty': 'l1'},\n",
            " {'C': 0.001, 'penalty': 'l2'},\n",
            " {'C': 0.01, 'penalty': 'l1'},\n",
            " {'C': 0.01, 'penalty': 'l1'},\n",
            " {'C': 0.01, 'penalty': 'l1'}]\n"
          ],
          "name": "stdout"
        }
      ]
    },
    {
      "cell_type": "code",
      "metadata": {
        "id": "Wd9MjKrz73q4",
        "colab_type": "code",
        "colab": {}
      },
      "source": [
        "clf = LogisticRegression()\n",
        "grid_clf = GridSearchCV(clf, param_grid=values, scoring='recall')\n",
        "ovr = OneVsRestClassifier(grid_clf).fit(X_train, y_train)"
      ],
      "execution_count": 0,
      "outputs": []
    },
    {
      "cell_type": "code",
      "metadata": {
        "id": "7D7yDFGL8HyB",
        "colab_type": "code",
        "outputId": "be562803-4266-4302-b36a-271e1c2e17ac",
        "colab": {
          "base_uri": "https://localhost:8080/",
          "height": 835
        }
      },
      "source": [
        "ovr.get_params()"
      ],
      "execution_count": 0,
      "outputs": [
        {
          "output_type": "execute_result",
          "data": {
            "text/plain": [
              "{'estimator': GridSearchCV(cv='warn', error_score='raise-deprecating',\n",
              "              estimator=LogisticRegression(C=1.0, class_weight=None, dual=False,\n",
              "                                           fit_intercept=True,\n",
              "                                           intercept_scaling=1, l1_ratio=None,\n",
              "                                           max_iter=100, multi_class='warn',\n",
              "                                           n_jobs=None, penalty='l2',\n",
              "                                           random_state=None, solver='warn',\n",
              "                                           tol=0.0001, verbose=0,\n",
              "                                           warm_start=False),\n",
              "              iid='warn', n_jobs=None,\n",
              "              param_grid={'C': [0.001, 0.09, 0.01, 0.09, 1, 5, 10, 25],\n",
              "                          'penalty': ['l1', 'l2']},\n",
              "              pre_dispatch='2*n_jobs', refit=True, return_train_score=False,\n",
              "              scoring='recall', verbose=0),\n",
              " 'estimator__cv': 'warn',\n",
              " 'estimator__error_score': 'raise-deprecating',\n",
              " 'estimator__estimator': LogisticRegression(C=1.0, class_weight=None, dual=False, fit_intercept=True,\n",
              "                    intercept_scaling=1, l1_ratio=None, max_iter=100,\n",
              "                    multi_class='warn', n_jobs=None, penalty='l2',\n",
              "                    random_state=None, solver='warn', tol=0.0001, verbose=0,\n",
              "                    warm_start=False),\n",
              " 'estimator__estimator__C': 1.0,\n",
              " 'estimator__estimator__class_weight': None,\n",
              " 'estimator__estimator__dual': False,\n",
              " 'estimator__estimator__fit_intercept': True,\n",
              " 'estimator__estimator__intercept_scaling': 1,\n",
              " 'estimator__estimator__l1_ratio': None,\n",
              " 'estimator__estimator__max_iter': 100,\n",
              " 'estimator__estimator__multi_class': 'warn',\n",
              " 'estimator__estimator__n_jobs': None,\n",
              " 'estimator__estimator__penalty': 'l2',\n",
              " 'estimator__estimator__random_state': None,\n",
              " 'estimator__estimator__solver': 'warn',\n",
              " 'estimator__estimator__tol': 0.0001,\n",
              " 'estimator__estimator__verbose': 0,\n",
              " 'estimator__estimator__warm_start': False,\n",
              " 'estimator__iid': 'warn',\n",
              " 'estimator__n_jobs': None,\n",
              " 'estimator__param_grid': {'C': [0.001, 0.09, 0.01, 0.09, 1, 5, 10, 25],\n",
              "  'penalty': ['l1', 'l2']},\n",
              " 'estimator__pre_dispatch': '2*n_jobs',\n",
              " 'estimator__refit': True,\n",
              " 'estimator__return_train_score': False,\n",
              " 'estimator__scoring': 'recall',\n",
              " 'estimator__verbose': 0,\n",
              " 'n_jobs': None}"
            ]
          },
          "metadata": {
            "tags": []
          },
          "execution_count": 90
        }
      ]
    },
    {
      "cell_type": "code",
      "metadata": {
        "id": "mEfMJpl38Tm1",
        "colab_type": "code",
        "outputId": "639305e2-a375-4793-e4a6-9984993a9944",
        "colab": {
          "base_uri": "https://localhost:8080/",
          "height": 35
        }
      },
      "source": [
        "ovr.score(X_test, y_test)"
      ],
      "execution_count": 0,
      "outputs": [
        {
          "output_type": "execute_result",
          "data": {
            "text/plain": [
              "0.9298245614035088"
            ]
          },
          "metadata": {
            "tags": []
          },
          "execution_count": 91
        }
      ]
    },
    {
      "cell_type": "code",
      "metadata": {
        "id": "idw6hgZT8Y-u",
        "colab_type": "code",
        "outputId": "02d7fabe-9401-48ae-ee60-c543cb7d1381",
        "colab": {
          "base_uri": "https://localhost:8080/",
          "height": 315
        }
      },
      "source": [
        "clf = LogisticRegression()\n",
        "grid_clf = GridSearchCV(clf, param_grid=values, scoring='recall', cv=5)\n",
        "grid_clf.fit(X_train, y_train)"
      ],
      "execution_count": 0,
      "outputs": [
        {
          "output_type": "stream",
          "text": [
            "/usr/local/lib/python3.6/dist-packages/sklearn/model_selection/_search.py:813: DeprecationWarning: The default of the `iid` parameter will change from True to False in version 0.22 and will be removed in 0.24. This will change numeric results when test-set sizes are unequal.\n",
            "  DeprecationWarning)\n"
          ],
          "name": "stderr"
        },
        {
          "output_type": "execute_result",
          "data": {
            "text/plain": [
              "GridSearchCV(cv=5, error_score='raise-deprecating',\n",
              "             estimator=LogisticRegression(C=1.0, class_weight=None, dual=False,\n",
              "                                          fit_intercept=True,\n",
              "                                          intercept_scaling=1, l1_ratio=None,\n",
              "                                          max_iter=100, multi_class='warn',\n",
              "                                          n_jobs=None, penalty='l2',\n",
              "                                          random_state=None, solver='warn',\n",
              "                                          tol=0.0001, verbose=0,\n",
              "                                          warm_start=False),\n",
              "             iid='warn', n_jobs=None,\n",
              "             param_grid={'C': [0.001, 0.09, 0.01, 0.09, 1, 5, 10, 25],\n",
              "                         'penalty': ['l1', 'l2']},\n",
              "             pre_dispatch='2*n_jobs', refit=True, return_train_score=False,\n",
              "             scoring='recall', verbose=0)"
            ]
          },
          "metadata": {
            "tags": []
          },
          "execution_count": 92
        }
      ]
    },
    {
      "cell_type": "code",
      "metadata": {
        "id": "nVOqv1Li8n5M",
        "colab_type": "code",
        "outputId": "ddfc5791-e514-4481-ea3e-d115c1e90ffa",
        "colab": {
          "base_uri": "https://localhost:8080/",
          "height": 35
        }
      },
      "source": [
        "grid_clf.best_params_"
      ],
      "execution_count": 0,
      "outputs": [
        {
          "output_type": "execute_result",
          "data": {
            "text/plain": [
              "{'C': 0.001, 'penalty': 'l2'}"
            ]
          },
          "metadata": {
            "tags": []
          },
          "execution_count": 93
        }
      ]
    },
    {
      "cell_type": "code",
      "metadata": {
        "id": "tWk58yeA8rs8",
        "colab_type": "code",
        "outputId": "14cb35d7-3720-4940-9601-35523ffcb788",
        "colab": {
          "base_uri": "https://localhost:8080/",
          "height": 277
        }
      },
      "source": [
        "clf = LogisticRegression()\n",
        "random_clf = RandomizedSearchCV(clf, param_distributions=values, scoring='recall', cv=5)\n",
        "random_clf.fit(X_train, y_train)"
      ],
      "execution_count": 0,
      "outputs": [
        {
          "output_type": "execute_result",
          "data": {
            "text/plain": [
              "RandomizedSearchCV(cv=5, error_score='raise-deprecating',\n",
              "                   estimator=LogisticRegression(C=1.0, class_weight=None,\n",
              "                                                dual=False, fit_intercept=True,\n",
              "                                                intercept_scaling=1,\n",
              "                                                l1_ratio=None, max_iter=100,\n",
              "                                                multi_class='warn', n_jobs=None,\n",
              "                                                penalty='l2', random_state=None,\n",
              "                                                solver='warn', tol=0.0001,\n",
              "                                                verbose=0, warm_start=False),\n",
              "                   iid='warn', n_iter=10, n_jobs=None,\n",
              "                   param_distributions={'C': [0.001, 0.09, 0.01, 0.09, 1, 5, 10,\n",
              "                                              25],\n",
              "                                        'penalty': ['l1', 'l2']},\n",
              "                   pre_dispatch='2*n_jobs', random_state=None, refit=True,\n",
              "                   return_train_score=False, scoring='recall', verbose=0)"
            ]
          },
          "metadata": {
            "tags": []
          },
          "execution_count": 94
        }
      ]
    },
    {
      "cell_type": "code",
      "metadata": {
        "id": "QeZkOqNk8zqO",
        "colab_type": "code",
        "outputId": "c1db962d-e451-400b-b4a7-4d5f1b96f39e",
        "colab": {
          "base_uri": "https://localhost:8080/",
          "height": 589
        }
      },
      "source": [
        "random_clf.get_params()"
      ],
      "execution_count": 0,
      "outputs": [
        {
          "output_type": "execute_result",
          "data": {
            "text/plain": [
              "{'cv': 5,\n",
              " 'error_score': 'raise-deprecating',\n",
              " 'estimator': LogisticRegression(C=1.0, class_weight=None, dual=False, fit_intercept=True,\n",
              "                    intercept_scaling=1, l1_ratio=None, max_iter=100,\n",
              "                    multi_class='warn', n_jobs=None, penalty='l2',\n",
              "                    random_state=None, solver='warn', tol=0.0001, verbose=0,\n",
              "                    warm_start=False),\n",
              " 'estimator__C': 1.0,\n",
              " 'estimator__class_weight': None,\n",
              " 'estimator__dual': False,\n",
              " 'estimator__fit_intercept': True,\n",
              " 'estimator__intercept_scaling': 1,\n",
              " 'estimator__l1_ratio': None,\n",
              " 'estimator__max_iter': 100,\n",
              " 'estimator__multi_class': 'warn',\n",
              " 'estimator__n_jobs': None,\n",
              " 'estimator__penalty': 'l2',\n",
              " 'estimator__random_state': None,\n",
              " 'estimator__solver': 'warn',\n",
              " 'estimator__tol': 0.0001,\n",
              " 'estimator__verbose': 0,\n",
              " 'estimator__warm_start': False,\n",
              " 'iid': 'warn',\n",
              " 'n_iter': 10,\n",
              " 'n_jobs': None,\n",
              " 'param_distributions': {'C': [0.001, 0.09, 0.01, 0.09, 1, 5, 10, 25],\n",
              "  'penalty': ['l1', 'l2']},\n",
              " 'pre_dispatch': '2*n_jobs',\n",
              " 'random_state': None,\n",
              " 'refit': True,\n",
              " 'return_train_score': False,\n",
              " 'scoring': 'recall',\n",
              " 'verbose': 0}"
            ]
          },
          "metadata": {
            "tags": []
          },
          "execution_count": 95
        }
      ]
    }
  ]
}